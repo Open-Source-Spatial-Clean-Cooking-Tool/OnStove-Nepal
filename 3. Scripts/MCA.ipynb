{
 "cells": [
  {
   "cell_type": "code",
   "execution_count": null,
   "id": "bac4c6ec",
   "metadata": {
    "tags": []
   },
   "outputs": [],
   "source": [
    "import sys\n",
    "import numpy as np\n",
    "import os\n",
    "import glob\n",
    "import pandas as pd\n",
    "from plotnine.stats.stat_boxplot import weighted_percentile\n",
    "import matplotlib.pyplot as plt\n",
    "from onstove import MCA, OnStove, RasterLayer, VectorLayer\n",
    "from helper_functions import available_layers, histogram, prioritize_households, prioritize_households_2"
   ]
  },
  {
   "cell_type": "code",
   "execution_count": null,
   "id": "0d86130b-7800-42cb-a6da-f8fe5f694f8c",
   "metadata": {},
   "outputs": [],
   "source": [
    "snake = True  # Change this to False to run the notebook by yourself and not through snakemake"
   ]
  },
  {
   "cell_type": "code",
   "execution_count": null,
   "id": "2b7523f6-21bc-4fa9-927f-cc2a8bbb3b20",
   "metadata": {},
   "outputs": [],
   "source": [
    "if snake:\n",
    "    output_directory =  snakemake.params.mca_folder\n",
    "    results_directory = snakemake.params.onstove_folder\n",
    "    gis_data = snakemake.params.processed_data\n",
    "else:\n",
    "    output_directory =  os.path.join('..', '4. Results', 'MCA')\n",
    "    results_directory = os.path.join('..', '4. Results', 'Stated_policies')\n",
    "    gis_data = os.path.join('..', '4. Results', 'Processed GIS Data')"
   ]
  },
  {
   "cell_type": "markdown",
   "id": "ee95ab6d",
   "metadata": {},
   "source": [
    "# 1. Creating an MCA model"
   ]
  },
  {
   "cell_type": "code",
   "execution_count": null,
   "id": "e1ce72bb",
   "metadata": {
    "tags": []
   },
   "outputs": [],
   "source": [
    "nepal = MCA(project_crs=3857, cell_size=(1000, 1000))\n",
    "nepal.output_directory = output_directory"
   ]
  },
  {
   "cell_type": "code",
   "execution_count": null,
   "id": "cf9523aa",
   "metadata": {
    "tags": []
   },
   "outputs": [],
   "source": [
    "adm_path = os.path.join(gis_data, 'Administrative', 'Country_boundaries', 'Country_boundaries.geojson')\n",
    "nepal.add_mask_layer(category='Administrative', name='Country_boundaries', path=adm_path)"
   ]
  },
  {
   "cell_type": "markdown",
   "id": "ef48edc4",
   "metadata": {},
   "source": [
    "## 1.1. Adding data layers\n",
    "Similar to the data processing steps, we can add data layers using the `add_layer` method. A layer `category`, `name` and `path` also need to be provided. In addition, other arguments can be passed:\n",
    "* `category`: this is used to group all datasets into a category in the final output, e.g. `demand` or `supply`. \n",
    "* `name`: the name of the layer.\n",
    "* `path`: relative path where the layer file is stored, including the name and extension.\n",
    "* `layer_type`: this argument is required with two possible options `raster` or `vector`, we should pass either one according to the dataset you are adding. \n",
    "* `scoring_method`: the method to be used to calculate the distance raster for this layer. \n",
    "    * For `raster` layers, only `log` is available. This will create a logarithmic representation of the original raster. If this is not desired, we should pass `None` to the `distance` parameter (this is the defaul value), which will take the original raster as the distance raster.\n",
    "    * For `vector` layers, two options are available `proximity` and `time_travel`. `proximity`, calculates a distance raster using the vectors (e.g. points, lines, polygons) as origin; the output raster will have the same dimentions and cell size as the `base_layer` (i.e. see below). `time_travel`, will need a friction raster (which can be added later) that will be used to calculate the least cost path to every cell taking the vectors as starting points.\n",
    "* `normalization`: currently only `MinMax` normalization is available. This is used to normalize the distance rasters in a 0 to 1 range, which will be used later to calculate the CCE Demand, Supply and Clean Cooking potential indexes.\n",
    "* `inverse`: we can specify if the scale of the ormalization need to be reversed, depending on the nature of the dataset.\n",
    "\n",
    "#### We will then read in the layers that we created in the `Data Processing` step:"
   ]
  },
  {
   "cell_type": "code",
   "execution_count": null,
   "id": "dd745737",
   "metadata": {
    "tags": []
   },
   "outputs": [],
   "source": [
    "nepal.add_layer(category='Demographics', name='Population', \n",
    "                path=os.path.join(gis_data, 'Demographics', 'Population', 'Population.tif'),\n",
    "                layer_type='raster', normalization='MinMax', inverse=False, \n",
    "                distance_method='log', base_layer=True)\n",
    "\n",
    "nepal.add_layer(category='Electricity', name='Existing MV lines', \n",
    "                path=os.path.join(gis_data, 'Electricity', 'MV_lines', 'MV_lines.geojson'),\n",
    "                layer_type='vector',\n",
    "                normalization='MinMax', inverse=True, \n",
    "                distance_method='proximity')\n",
    "\n",
    "nepal.add_layer(category='Electricity', name='Existing Mini Grids', \n",
    "                path=os.path.join(gis_data, 'Electricity', 'MG_points', 'MG_points.geojson'),\n",
    "                layer_type='vector',\n",
    "                normalization='MinMax', inverse=True, \n",
    "                distance_method='proximity')\n",
    "\n",
    "nepal.add_layer(category='LPG', name='Traveltime', \n",
    "                path=os.path.join(gis_data, 'LPG', 'LPG_traveltime', 'LPG_traveltime.tif'),\n",
    "                layer_type='raster', normalization='MinMax')\n",
    "\n",
    "nepal.add_layer(category='Other', name='Roads', \n",
    "                path=os.path.join(gis_data, 'LPG', 'Roads', 'Roads.geojson'),\n",
    "                layer_type='vector', \n",
    "                normalization='MinMax', inverse=True, \n",
    "                distance_method='proximity')\n",
    "\n",
    "nepal.add_layer(category='Biomass', name='Canopy cover', \n",
    "                path=os.path.join(gis_data, 'Biomass', 'Forest', 'Forest.tif'), \n",
    "                normalization='MinMax',\n",
    "                layer_type='raster')\n",
    "\n",
    "nepal.add_layer(category='Biomass', name='Traveltime', \n",
    "                path=os.path.join(gis_data, 'Biomass', 'Friction', 'Friction.tif'), \n",
    "                normalization='MinMax',\n",
    "                distance_method='travel_time',\n",
    "                layer_type='raster')\n",
    "nepal.layers['Biomass']['Traveltime'].starting_points = nepal.layers['Biomass']['Canopy cover'].start_points(lambda x: x >= 30)\n",
    "\n",
    "nepal.add_layer(category='Demographics', name='Wealth', \n",
    "                path=os.path.join(gis_data, 'Demographics', 'Wealth', 'Wealth.tif'),\n",
    "                layer_type='raster', normalization='MinMax', inverse=False)"
   ]
  },
  {
   "cell_type": "markdown",
   "id": "57ba4403-659d-4511-b9ef-8672368a5c0c",
   "metadata": {},
   "source": [
    "#### We can also read layers from the `OnStove` cost-benefit analysis:"
   ]
  },
  {
   "cell_type": "code",
   "execution_count": null,
   "id": "567ecdaa",
   "metadata": {
    "tags": []
   },
   "outputs": [],
   "source": [
    "scenario = 'Stated_policies'\n",
    "\n",
    "files = glob.glob(os.path.join(results_directory, 'Rasters', '*.tif'))\n",
    "\n",
    "for file in files:\n",
    "    name = os.path.splitext(os.path.basename(file))[0]\n",
    "    nepal.add_layer(category='OnStove', name=name, \n",
    "                    path=file,\n",
    "                    layer_type='raster', normalization='MinMax')"
   ]
  },
  {
   "cell_type": "markdown",
   "id": "cbe9f957",
   "metadata": {},
   "source": [
    "## 1.2. Calculate distance rasters"
   ]
  },
  {
   "cell_type": "code",
   "execution_count": null,
   "id": "861ba7ce",
   "metadata": {
    "tags": []
   },
   "outputs": [],
   "source": [
    "nepal.get_distance_rasters(datasets='all')"
   ]
  },
  {
   "cell_type": "code",
   "execution_count": null,
   "id": "5a069d94-0ccc-4e62-bdf0-6a3e8b89b44f",
   "metadata": {
    "tags": []
   },
   "outputs": [],
   "source": [
    "nepal.layers['Electricity']['Existing infra'] = RasterLayer(category='Electricity', name='Existing infra')\n",
    "nepal.layers['Electricity']['Existing infra'].data = np.maximum(nepal.layers['Electricity']['Existing MV lines'].distance_raster.data, \n",
    "                                                                   nepal.layers['Electricity']['Existing Mini Grids'].distance_raster.data)\n",
    "nepal.layers['Electricity']['Existing infra'].meta = nepal.layers['Electricity']['Existing MV lines'].distance_raster.meta\n",
    "nepal.layers['Electricity']['Existing infra'].distance_raster = nepal.layers['Electricity']['Existing infra']"
   ]
  },
  {
   "cell_type": "markdown",
   "id": "a4131d66",
   "metadata": {},
   "source": [
    "## 1.3. Save the model"
   ]
  },
  {
   "cell_type": "code",
   "execution_count": null,
   "id": "6074e5c4",
   "metadata": {
    "tags": []
   },
   "outputs": [],
   "source": [
    "nepal.to_pickle('mca.pkl')"
   ]
  },
  {
   "cell_type": "markdown",
   "id": "6bf113f4",
   "metadata": {},
   "source": [
    "# 2. MCA analysis\n",
    "## 2.1. Read the MCA model"
   ]
  },
  {
   "cell_type": "code",
   "execution_count": null,
   "id": "5a9eaf1d",
   "metadata": {
    "tags": []
   },
   "outputs": [],
   "source": [
    "nepal = MCA.read_model(os.path.join(output_directory, 'mca.pkl'))"
   ]
  },
  {
   "cell_type": "code",
   "execution_count": null,
   "id": "774ded56-c252-46e0-b595-294d819da868",
   "metadata": {
    "tags": []
   },
   "outputs": [],
   "source": [
    "available_layers(nepal.layers, indent=0)"
   ]
  },
  {
   "cell_type": "code",
   "execution_count": null,
   "id": "8f7ae421-e849-45d5-b138-5fa0ca299dd7",
   "metadata": {
    "tags": []
   },
   "outputs": [],
   "source": [
    "cmap = {\"Biomass ICS T3\": '#57365A', \"LPG\": '#40bdbc', \"Traditional Biomass\": '#673139',\n",
    "        \"Biogas\": '#73af48', \"Biogas and Biomass ICS T2\": \"#F6029E\", \"Biomass ICS T2\": '#B6195E',\n",
    "        \"Biogas and LPG\": \"#156e5e\",  \"Biogas and Traditional Biomass\": \"#266AA6\",\n",
    "        \"Biogas and Biomass ICS T3\": \"#bd57b6\", \"Biogas and Electricity\": \"#484673\",\n",
    "        \"Electricity\": '#d14a36', \"Electricity and Biomass ICS T2\": \"#4D7126\",\n",
    "        \"Electricity and LPG\": \"#dec610\", \"Electricity and Traditional Biomass\": \"#FFC107\",\n",
    "        \"Electricity and Biomass ICS T3\": \"#1E88E5\", \"Electricity and Biogas\": \"#e17c05\",\n",
    "        \"Mini Grids\": \"#ff7678\", \"Electricity and Mini Grids\": \"#ffd9df\",\n",
    "        \"Biogas and Mini Grids\": \"#ffd9df\"}\n",
    "\n",
    "labels = {\"Biogas and Electricity\": \"Electricity and Biogas\"}\n",
    "\n",
    "scale_bar_prop = dict(size=100000, style='double', textprops=dict(size=11), location=(0.5, 0.02),\n",
    "                      linekw=dict(lw=1, color='black'), extent=0.01, loc='lower center')\n",
    "north_arrow_prop = dict(size=30, location=(0.92, 0.92), linewidth=0.5)\n",
    "\n",
    "nepal_onstove = OnStove.read_model(os.path.join(results_directory, 'results.pkl'))"
   ]
  },
  {
   "cell_type": "markdown",
   "id": "8d523d62",
   "metadata": {},
   "source": [
    "## 2.2. Create the MCA scenarios\n",
    "### 2.2.1. Biomass ICS Tier 3 stoves\n",
    "By 2025, install 500,000 improved cookstoves, specifically in rural areas."
   ]
  },
  {
   "cell_type": "code",
   "execution_count": null,
   "id": "fc15183a",
   "metadata": {
    "tags": []
   },
   "outputs": [],
   "source": [
    "nepal.layers['Electricity']['Existing infra'].inverse = False\n",
    "nepal.layers['LPG']['Traveltime'].inverse = False\n",
    "nepal.layers['Biomass']['Traveltime'].inverse = True\n",
    "nepal.layers['Demographics']['Wealth'].inverse = True\n",
    "nepal.layers['Demographics']['Population'].inverse = False\n",
    "nepal.layers['OnStove']['maximum_net_benefit_per_household'].inverse = False\n",
    "nepal.layers['OnStove']['available_biogas_mean'].inverse = True\n",
    "\n",
    "nepal.layers['Electricity']['Existing infra'].distance_limit = None\n",
    "nepal.layers['LPG']['Traveltime'].distance_limit = None\n",
    "nepal.layers['Biomass']['Traveltime'].distance_limit = None\n",
    "nepal.layers['Demographics']['Wealth'].distance_limit = None\n",
    "nepal.layers['Demographics']['Population'].distance_limit = lambda x: x>0\n",
    "nepal.layers['OnStove']['maximum_net_benefit_per_household'].distance_limit = None\n",
    "nepal.layers['OnStove']['available_biogas_mean'].distance_limit = None\n",
    "\n",
    "nepal.layers['Electricity']['Existing infra'].weight = 2.7\n",
    "nepal.layers['LPG']['Traveltime'].weight = 3.3\n",
    "nepal.layers['Biomass']['Traveltime'].weight = 4.3\n",
    "nepal.layers['Demographics']['Wealth'].weight = 4.6\n",
    "nepal.layers['Demographics']['Population'].weight = 2\n",
    "nepal.layers['OnStove']['maximum_net_benefit_per_household'].weight = 4.1\n",
    "nepal.layers['OnStove']['available_biogas_mean'].weight = 3.3\n",
    "\n",
    "biomass_ics_index = nepal.get_index(datasets={\n",
    "                                              'Demographics': ['Population', 'Wealth'],\n",
    "                                              'Electricity': ['Existing infra'],\n",
    "                                              'Biomass': ['Traveltime'],\n",
    "                                              'LPG': ['Traveltime'],\n",
    "                                              'OnStove': ['maximum_net_benefit_per_household',\n",
    "                                                          'available_biogas_mean']\n",
    "                                             }, \n",
    "                                    buffer=True, name='Biomass ICS T3')\n",
    "biomass_ics_index.name = 'Biomass_ICS_T3_priority_areas'\n",
    "biomass_ics_index.plot(cmap='magma', ticks=[0, 0.5, 1], tick_labels=['Low', 'Medium', 'High'],\n",
    "                       admin_layer=nepal.mask_layer, figsize=(16,9),\n",
    "                       scale_bar=scale_bar_prop, \n",
    "                       north_arrow=north_arrow_prop,\n",
    "                       colorbar_kwargs=dict(orientation='horizontal', x=0.05, y=0.1, width=0.3, height=0.05,\n",
    "                                            title_prop=dict(loc='left', labelpad=-55, fontweight='normal'))\n",
    "                       )\n",
    "biomass_ics_index.save_image(name=os.path.join(nepal.output_directory, 'Biomass_ICS_T3_priority_areas.pdf'), \n",
    "                             cmap='magma', ticks=[0, 0.5, 1], tick_labels=['Low', 'Medium', 'High'],\n",
    "                             admin_layer=nepal.mask_layer, figsize=(13,9),\n",
    "                             scale_bar=scale_bar_prop, \n",
    "                             north_arrow=north_arrow_prop,\n",
    "                             colorbar_kwargs=dict(orientation='horizontal', x=0.05, y=0.1, width=0.3, height=0.05,\n",
    "                                                  title_prop=dict(loc='left', labelpad=-55, fontweight='normal')))"
   ]
  },
  {
   "cell_type": "code",
   "execution_count": null,
   "id": "8b3e30ef-076e-4723-aaaa-32074e4a151c",
   "metadata": {
    "tags": []
   },
   "outputs": [],
   "source": [
    "histogram(model=nepal_onstove, index=biomass_ics_index, name='Biomass ICS T3', \n",
    "          labels=labels, cmap=cmap, output_folder=nepal.output_directory)"
   ]
  },
  {
   "cell_type": "markdown",
   "id": "de01aa16-7e5f-4085-86eb-e2f629f9f01b",
   "metadata": {},
   "source": [
    "### 2.2.2. Biogas digesters and stoves\n",
    "By 2025, install an additional 200,000 household biogas plants."
   ]
  },
  {
   "cell_type": "code",
   "execution_count": null,
   "id": "ee4e3da9-8905-4fab-8f81-f8d6f4cc1df3",
   "metadata": {
    "tags": []
   },
   "outputs": [],
   "source": [
    "nepal.layers['Electricity']['Existing infra'].inverse = False\n",
    "nepal.layers['LPG']['Traveltime'].inverse = False\n",
    "nepal.layers['Biomass']['Traveltime'].inverse = False\n",
    "nepal.layers['Demographics']['Wealth'].inverse = False\n",
    "nepal.layers['Demographics']['Population'].inverse = True\n",
    "nepal.layers['OnStove']['maximum_net_benefit_per_household'].inverse = False\n",
    "nepal.layers['OnStove']['available_biogas_mean'].inverse = False\n",
    "\n",
    "nepal.layers['Electricity']['Existing infra'].distance_limit = None\n",
    "nepal.layers['LPG']['Traveltime'].distance_limit = None\n",
    "nepal.layers['Biomass']['Traveltime'].distance_limit = None\n",
    "nepal.layers['Demographics']['Wealth'].distance_limit = None\n",
    "nepal.layers['Demographics']['Population'].distance_limit = lambda x: x>0\n",
    "nepal.layers['OnStove']['maximum_net_benefit_per_household'].distance_limit = None\n",
    "nepal.layers['OnStove']['available_biogas_mean'].distance_limit = None\n",
    "\n",
    "nepal.layers['Electricity']['Existing infra'].weight = 3\n",
    "nepal.layers['LPG']['Traveltime'].weight = 3.5\n",
    "nepal.layers['Biomass']['Traveltime'].weight = 2.7\n",
    "nepal.layers['Demographics']['Wealth'].weight = 4\n",
    "nepal.layers['Demographics']['Population'].weight = 3.3\n",
    "nepal.layers['OnStove']['maximum_net_benefit_per_household'].weight = 4.2\n",
    "nepal.layers['OnStove']['available_biogas_mean'].weight = 4.3\n",
    "\n",
    "biogas_index = nepal.get_index(datasets={'Demographics': ['Population', 'Wealth'],\n",
    "                                         'Electricity': ['Existing infra'],\n",
    "                                         'Biomass': ['Traveltime'],\n",
    "                                         'LPG': ['Traveltime'],\n",
    "                                         'OnStove': ['maximum_net_benefit_per_household',\n",
    "                                                     'available_biogas_mean']}, \n",
    "                               buffer=True, name='Biogas')\n",
    "biogas_index.name = 'Biogas_priority_areas'\n",
    "biogas_index.plot(cmap='magma', ticks=[0, 0.5, 1], tick_labels=['Low', 'Medium', 'High'],\n",
    "                  admin_layer=nepal.mask_layer, figsize=(16,9),\n",
    "                  scale_bar=scale_bar_prop, north_arrow=north_arrow_prop,\n",
    "                  colorbar_kwargs=dict(orientation='horizontal', x=0.05, y=0.1, width=0.3, height=0.05,\n",
    "                                            title_prop=dict(loc='left', labelpad=-55, fontweight='normal')))\n",
    "biogas_index.save_image(os.path.join(nepal.output_directory, 'Biogas_priority_areas.pdf'), \n",
    "                        cmap='magma', ticks=[0, 0.5, 1], tick_labels=['Low', 'Medium', 'High'],\n",
    "                        admin_layer=nepal.mask_layer, figsize=(13,9), \n",
    "                        scale_bar=scale_bar_prop, north_arrow=north_arrow_prop,\n",
    "                        colorbar_kwargs=dict(orientation='horizontal', x=0.05, y=0.1, width=0.3, height=0.05,\n",
    "                                            title_prop=dict(loc='left', labelpad=-55, fontweight='normal')))"
   ]
  },
  {
   "cell_type": "code",
   "execution_count": null,
   "id": "3db57ebd-0249-4adc-bcca-158c25b351ac",
   "metadata": {
    "tags": []
   },
   "outputs": [],
   "source": [
    "histogram(model=nepal_onstove, index=biogas_index, name='Biogas', \n",
    "          labels=labels, cmap=cmap, output_folder=nepal.output_directory)"
   ]
  },
  {
   "cell_type": "markdown",
   "id": "86889d74-cc9d-4251-a744-6d60daaec3c1",
   "metadata": {},
   "source": [
    "### 2.2.3. Induction electric cookstoves\n",
    "By 2030, ensure 25% of households use electric stoves as their primary mode of cooking"
   ]
  },
  {
   "cell_type": "code",
   "execution_count": null,
   "id": "976be5c2-b34f-4506-8e4b-84cdf560bd7d",
   "metadata": {
    "tags": []
   },
   "outputs": [],
   "source": [
    "nepal.layers['Electricity']['Existing infra'].inverse = True\n",
    "nepal.layers['LPG']['Traveltime'].inverse = False\n",
    "nepal.layers['Biomass']['Traveltime'].inverse = False\n",
    "nepal.layers['Demographics']['Wealth'].inverse = False\n",
    "nepal.layers['Demographics']['Population'].inverse = False\n",
    "nepal.layers['OnStove']['maximum_net_benefit_per_household'].inverse = False\n",
    "nepal.layers['OnStove']['available_biogas_mean'].inverse = True\n",
    "\n",
    "nepal.layers['Electricity']['Existing infra'].distance_limit = None\n",
    "nepal.layers['LPG']['Traveltime'].distance_limit = None\n",
    "nepal.layers['Biomass']['Traveltime'].distance_limit = None\n",
    "nepal.layers['Demographics']['Wealth'].distance_limit = None\n",
    "nepal.layers['Demographics']['Population'].distance_limit = lambda x: x>0\n",
    "nepal.layers['OnStove']['maximum_net_benefit_per_household'].distance_limit = None\n",
    "nepal.layers['OnStove']['available_biogas_mean'].distance_limit = None\n",
    "\n",
    "nepal.layers['Electricity']['Existing infra'].weight = 4.6\n",
    "nepal.layers['LPG']['Traveltime'].weight = 3.8\n",
    "nepal.layers['Biomass']['Traveltime'].weight = 2.3\n",
    "nepal.layers['Demographics']['Wealth'].weight = 4.3\n",
    "nepal.layers['Demographics']['Population'].weight = 3.5\n",
    "nepal.layers['OnStove']['maximum_net_benefit_per_household'].weight = 4.4\n",
    "nepal.layers['OnStove']['available_biogas_mean'].weight = 2.3\n",
    "\n",
    "electricity_index = nepal.get_index(datasets={'Demographics': ['Population', 'Wealth'],\n",
    "                                       'Electricity': ['Existing infra'],\n",
    "                                       'Biomass': ['Traveltime'],\n",
    "                                       'LPG': ['Traveltime'],\n",
    "                                       'OnStove': ['maximum_net_benefit_per_household',\n",
    "                                                   'available_biogas_mean']}, \n",
    "                             buffer=True, name='Electricity')\n",
    "electricity_index.name = 'Electricity_priority_areas'\n",
    "electricity_index.plot(cmap='magma', ticks=[0, 0.5, 1], tick_labels=['Low', 'Medium', 'High'],\n",
    "                       admin_layer=nepal.mask_layer, figsize=(16,9),\n",
    "                       scale_bar=scale_bar_prop, north_arrow=north_arrow_prop,\n",
    "                       colorbar_kwargs=dict(orientation='horizontal', x=0.05, y=0.1, width=0.3, height=0.05,\n",
    "                                            title_prop=dict(loc='left', labelpad=-55, fontweight='normal')))\n",
    "electricity_index.save_image(os.path.join(nepal.output_directory, 'Electricity_priority_areas.pdf'), \n",
    "                             cmap='magma', ticks=[0, 0.5, 1], tick_labels=['Low', 'Medium', 'High'],\n",
    "                             admin_layer=nepal.mask_layer, figsize=(13,9), dpi=300,\n",
    "                             scale_bar=scale_bar_prop, north_arrow=north_arrow_prop,\n",
    "                             colorbar_kwargs=dict(orientation='horizontal', x=0.05, y=0.1, width=0.3, height=0.05,\n",
    "                                            title_prop=dict(loc='left', labelpad=-55, fontweight='normal')))"
   ]
  },
  {
   "cell_type": "code",
   "execution_count": null,
   "id": "04422564-3d1b-45eb-bdad-6bc94e02eed7",
   "metadata": {
    "tags": []
   },
   "outputs": [],
   "source": [
    "histogram(model=nepal_onstove, index=electricity_index, name='Electricity',\n",
    "         labels=labels, cmap=cmap, output_folder=nepal.output_directory)"
   ]
  },
  {
   "cell_type": "code",
   "execution_count": null,
   "id": "8f6b83a1-4ec8-4b3c-ab9d-1b0922f181d3",
   "metadata": {
    "tags": []
   },
   "outputs": [],
   "source": [
    "goal_elec = nepal_onstove.gdf['Households'].sum() * 0.25\n",
    "goal_biogas = 200000\n",
    "goal_biomass = 500000\n",
    "\n",
    "prioritize_households(nepal_onstove, electricity_index, ['Electricity', 'Mini_Grids'], goal_elec)\n",
    "prioritize_households(nepal_onstove, biogas_index, 'Biogas', goal_biogas)\n",
    "prioritize_households(nepal_onstove, biomass_ics_index, 'Biomass_ICS_T3', goal_biomass)"
   ]
  },
  {
   "cell_type": "code",
   "execution_count": null,
   "id": "e4a7f97b-d9e3-40b0-997a-d66b57e9885f",
   "metadata": {},
   "outputs": [],
   "source": [
    "prioritize_households_2(nepal_onstove, biomass_ics_index, 'Biomass_ICS_T3', goal_biomass)"
   ]
  },
  {
   "cell_type": "code",
   "execution_count": null,
   "id": "4c40aa30-b9d4-4b69-8e67-6c20c1fe81fb",
   "metadata": {},
   "outputs": [],
   "source": [
    "nepal_onstove.extract_lives_saved(column='Prioritized_hh')\n",
    "nepal_onstove.extract_health_costs_saved(column='Prioritized_hh')\n",
    "nepal_onstove.extract_time_saved(column='Prioritized_hh')\n",
    "nepal_onstove.extract_opportunity_cost(column='Prioritized_hh')\n",
    "nepal_onstove.extract_reduced_emissions(column='Prioritized_hh')\n",
    "nepal_onstove.extract_emissions_costs_saved(column='Prioritized_hh')\n",
    "nepal_onstove.extract_investment_costs(column='Prioritized_hh')\n",
    "nepal_onstove.extract_fuel_costs(column='Prioritized_hh')\n",
    "nepal_onstove.extract_om_costs(column='Prioritized_hh')\n",
    "nepal_onstove.extract_salvage(column='Prioritized_hh')"
   ]
  },
  {
   "cell_type": "code",
   "execution_count": null,
   "id": "1d8631e2-5fa9-48a5-9856-f716e4c19caa",
   "metadata": {
    "tags": []
   },
   "outputs": [],
   "source": [
    "# Calculating subsidies\n",
    "exchange_rate = 123.9838 # NPR/USD\n",
    "## LPG\n",
    "subsidy_lpg = 0\n",
    "if scenario != 'Stated_policies':\n",
    "    subsidy_hh_lpg = nepal_onstove.techs['LPG'].energy / nepal_onstove.techs['LPG'].energy_content / 14.2 * 549.875 / exchange_rate\n",
    "    subsidy_lpg = nepal_onstove.gdf.loc[nepal.gdf['Prioritized_hh'] == 'LPG', 'Households'].sum() * subsidy_hh_lpg / 1000000000\n",
    "\n",
    "## Biomass ICS\n",
    "subsidy_ics = (nepal_onstove.gdf.loc[nepal_onstove.gdf['Prioritized_hh']=='Biomass_ICS_T3', 'Households'] * \n",
    "               nepal_onstove.techs['Biomass_ICS_T3'].inv_cost).sum() / 1000000000\n",
    "if scenario == 'Social_optimum':\n",
    "    subsidy_ics *= 0.5\n",
    "\n",
    "## Biogas\n",
    "eco_zones = VectorLayer(path=os.path.join('..', '1. Data', 'Ecological zones', 'Ecological zones.geojson'))\n",
    "eco_zones.reproject(3857)\n",
    "zones = nepal_onstove.gdf[['Households', 'geometry']].sjoin(eco_zones.data[['zone', 'geometry']], how='left')\n",
    "nepal_onstove.gdf['eco_zone'] = zones['zone']\n",
    "subsidy_biogas = nepal_onstove.gdf.loc[(nepal_onstove.gdf['Prioritized_hh'] == 'Biogas') & \n",
    "                               (nepal_onstove.gdf['eco_zone'] == 'Terai'), 'Households'].sum() * 193.5736766\n",
    "subsidy_biogas += nepal_onstove.gdf.loc[(nepal_onstove.gdf['Prioritized_hh'] == 'Biogas') & \n",
    "                                (nepal_onstove.gdf['eco_zone'] == 'Hills'), 'Households'].sum() * 262.1310203\n",
    "subsidy_biogas += nepal_onstove.gdf.loc[(nepal_onstove.gdf['Prioritized_hh'] == 'Biogas') & \n",
    "                                (nepal_onstove.gdf['eco_zone'] == 'Mountain'), 'Households'].sum() * 314.5572244\n",
    "subsidy_biogas /= 1000000000\n",
    "\n",
    "## Electricity\n",
    "subsidy_electricity = 0\n",
    "if scenario in ['Stated_policies']:\n",
    "    increment = 549.875 / (exchange_rate * 14.2) # USD per kg\n",
    "    \n",
    "    increment_per_MJ = increment / nepal_onstove.techs['LPG'].energy_content # in USD/MJ\n",
    "    el_sub_factor = 0.5\n",
    "    subsidy_per_kwh = increment_per_MJ * nepal_onstove.techs['Electricity'].energy_content * el_sub_factor # in USD/kWh\n",
    "    \n",
    "    kwh_grid = nepal_onstove.techs['Electricity'].energy / nepal_onstove.techs['Electricity'].energy_content\n",
    "    kwh_minigrid = nepal_onstove.techs['Mini_Grids'].energy / nepal_onstove.techs['Mini_Grids'].energy_content\n",
    "    \n",
    "    subsidy_electricity = nepal_onstove.gdf.loc[nepal_onstove.gdf['Prioritized_hh'] == 'Electricity', 'Households'].sum() * kwh_minigrid * subsidy_per_kwh\n",
    "    subsidy_electricity += nepal_onstove.gdf.loc[nepal_onstove.gdf['Prioritized_hh'] == 'Mini_Grids', 'Households'].sum() * kwh_minigrid * subsidy_per_kwh\n",
    "    subsidy_electricity /= 1000000000\n",
    "    \n",
    "all_subsidies = subsidy_lpg + subsidy_ics + subsidy_biogas + subsidy_electricity\n",
    "\n",
    "# Calculating total system cost\n",
    "summary = nepal_onstove.summary(total=True, pretty=False, variable='Prioritized_hh', remove_none=True)\n",
    "total_costs = (summary.loc['total', 'investment_costs'] + summary.loc['total', 'fuel_costs'] + \n",
    "               summary.loc['total', 'om_costs'] - summary.loc['total', 'salvage_value']) / 1000\n",
    "\n",
    "if scenario != 'Social_optimum':\n",
    "    total_costs += all_subsidies"
   ]
  },
  {
   "cell_type": "code",
   "execution_count": null,
   "id": "b245bfc0-c79c-4321-bcfd-072c0dea03b4",
   "metadata": {
    "tags": []
   },
   "outputs": [],
   "source": [
    "subsidies_df = pd.DataFrame({'LPG subsidies (BUS$)': [subsidy_lpg],\n",
    "                             'Biomass ICS T3 subsidies (BUS$)': [subsidy_ics],\n",
    "                             'Biogas subsidies (BUS$)': [subsidy_biogas],\n",
    "                             'Electricity subsidies (BUS$)': [subsidy_electricity]},\n",
    "                            index=['Subsidies prioritized'])\n",
    "subsidies_df.to_csv(os.path.join(nepal.output_directory, 'Subsidies_prioritized.csv'))\n",
    "subsidies_df"
   ]
  },
  {
   "cell_type": "code",
   "execution_count": null,
   "id": "fb510b23-dd59-4905-b9e5-179977917018",
   "metadata": {
    "tags": []
   },
   "outputs": [],
   "source": [
    "cmap = {\"Biomass ICS T3\": '#57365A', \"LPG\": '#40bdbc', \"Traditional Biomass\": '#673139',\n",
    "        \"Biogas\": '#73af48', \"Biogas and Biomass ICS T2\": \"#F6029E\", \"Biomass ICS T2\": '#B6195E',\n",
    "        \"Biogas and LPG\": \"#156e5e\",  \"Biogas and Traditional Biomass\": \"#266AA6\",\n",
    "        \"Biogas and Biomass ICS T3\": \"#bd57b6\", \"Biogas and Electricity\": \"#484673\",\n",
    "        \"Electricity\": '#d14a36', \"Electricity and Biomass ICS T2\": \"#4D7126\",\n",
    "        \"Electricity and LPG\": \"#dec610\", \"Electricity and Traditional Biomass\": \"#FFC107\",\n",
    "        \"Electricity and Biomass ICS T3\": \"#1E88E5\", \"Electricity and Biogas\": \"#e17c05\",\n",
    "        \"Mini Grids\": \"#ff7678\", \"Electricity and Mini Grids\": \"#ffd9df\",\n",
    "        \"Biogas and Mini Grids\": \"#ffd9df\", 'None': '#f1f1f1', \n",
    "        'Biogas (partially)': '#6d9991', 'Biomass ICS T3 (partially)': '#e4b7e8',\n",
    "        'Electricity (partially)': '#e37a6b'}\n",
    "\n",
    "labels = {\"Biogas and Electricity\": \"Electricity and Biogas\",\n",
    "          \"Electricity and None\": 'Electricity (partially)',\n",
    "          \"None and Electricity\": 'Electricity (partially)',\n",
    "          \"Biogas and None\": 'Biogas (partially)',\n",
    "          \"None and Biogas\": 'Biogas (partially)',\n",
    "          \"None and Biomass ICS T3\": 'Biomass ICS T3 (partially)',\n",
    "          \"Biomass ICS T3 and Biomass ICS T3\": 'Biomass ICS T3',\n",
    "          \"Biomass ICS T3 and Biogas\": \"Biogas and Biomass ICS T3\"}\n",
    "\n",
    "scale_bar_prop = dict(size=100000, style='double', textprops=dict(size=11), location=(0.5, 0.02),\n",
    "                      linekw=dict(lw=1, color='black'), extent=0.01, loc='lower center')\n",
    "north_arrow_prop = dict(size=30, location=(0.92, 0.92), linewidth=0.5)\n",
    "\n",
    "nepal_onstove.plot('Prioritized_hh', cmap=cmap,\n",
    "                   labels=labels,\n",
    "                   legend_position=(0.65, 0.95), \n",
    "                   figsize=(13, 9),  \n",
    "                   legend_title='Prioritized areas',\n",
    "                   stats=True, \n",
    "                   scale_bar=scale_bar_prop, north_arrow=north_arrow_prop,\n",
    "                   stats_kwargs={'extra_stats': {'Total system cost': f'{total_costs:.2f} BUS$',\n",
    "                                 'Subsidies': f'{all_subsidies:.2f} BUS$'}, \n",
    "                                 'fontsize': 14, 'stats_position': (0, 0.28), 'pad': 2, 'sep': 0})"
   ]
  },
  {
   "cell_type": "code",
   "execution_count": null,
   "id": "71f12859-0bf8-41fc-909d-7158b5c6deda",
   "metadata": {
    "tags": []
   },
   "outputs": [],
   "source": [
    "plt.clf()\n",
    "\n",
    "# Draw histogram\n",
    "max_val = nepal_onstove.gdf['relative_wealth'].max()\n",
    "min_val = nepal_onstove.gdf['relative_wealth'].min()\n",
    "binwidth = (max_val - min_val) * 0.05\n",
    "\n",
    "fig = nepal_onstove.plot_distribution(type='histogram', fill='Prioritized_hh', variable='relative_wealth', \n",
    "                                       groupby='None', cmap=cmap, labels=labels, \n",
    "                                       hh_divider=1000, y_title='Households (k)', font_args=dict(color='black', size=11),\n",
    "                                       height=2.5, width=4, kwargs=dict(binwidth=binwidth, alpha=0.8, size=0.2),\n",
    "                                       theme_name='minimal', quantiles=True)\n",
    "\n",
    "# Add quantile lines\n",
    "q1, q3 = weighted_percentile(a=nepal_onstove.gdf['relative_wealth'].values, q=(25, 75), weights=nepal_onstove.gdf['Households'].values)\n",
    "\n",
    "# get figure to annotate\n",
    "ax = fig.axes[0] # get the matplotlib axis (may be more than one if faceted)\n",
    "\n",
    "# annotate quantiles\n",
    "trans = ax.get_xaxis_transform()\n",
    "ax.annotate('Q1', xy=(q1, 1.05), xycoords=trans,\n",
    "            horizontalalignment='center',\n",
    "            color='#4D4D4D', weight=\"bold\")\n",
    "ax.annotate('Q3', xy=(q3, 1.05), xycoords=trans,\n",
    "            horizontalalignment='center',\n",
    "            color='#4D4D4D', weight=\"bold\")\n",
    "\n",
    "# annotate percentages\n",
    "dff = nepal_onstove.gdf.groupby('Prioritized_hh')['Households'].sum()\n",
    "dff.sort_values(inplace=True)\n",
    "total = dff.sum()\n",
    "## Dictionaries to set the possition of the arrows and text in the histogram\n",
    "y_arrow_dict = {'Electricity': 125, 'LPG': 180, 'Biogas': 10, 'Biomass_ICS_T3': 90, 'Mini_Grids': 0}\n",
    "y_text_dict= {'Electricity': 340, 'LPG': 300, 'Biogas': 250, 'Biomass_ICS_T3': 400, 'Mini_Grids': 100}\n",
    "x_text_dict = {'Electricity': 1.5, 'LPG': 2, 'Biogas': -1.2, 'Biomass_ICS_T3': -1, 'Mini_Grids': -1.3}\n",
    "\n",
    "## Draw arrows and text\n",
    "for tech in dff.index:\n",
    "    if tech != 'None':\n",
    "        group = nepal_onstove.gdf.loc[nepal_onstove.gdf['Prioritized_hh']==tech]\n",
    "        hh = group['Households'].sum()\n",
    "        share = hh/total\n",
    "        if share > 0.01:\n",
    "            x = weighted_percentile(a=group['relative_wealth'].values, q=(50), weights=group['Households'].values)\n",
    "            y_arrow = y_arrow_dict[tech]\n",
    "            y_text = y_text_dict[tech]\n",
    "            x_text = x_text_dict[tech]\n",
    "\n",
    "            ax.annotate(xy=(x, y_arrow),\n",
    "                        xytext=(x_text, y_text), text=f'{share:.0%}',\n",
    "                        horizontalalignment='right', verticalalignment='center',\n",
    "                        arrowprops={'arrowstyle': '-', 'color': '#4D4D4D', 'lw': 0.5},\n",
    "                        color='#4D4D4D')\n",
    "        \n",
    "fig.set_size_inches(4, 2.5)\n",
    "fig.savefig(os.path.join(nepal.output_directory, 'tech_histogram_prioritized.pdf'), bbox_inches='tight', transparent=True)\n",
    "fig"
   ]
  },
  {
   "cell_type": "code",
   "execution_count": null,
   "id": "f64508f0-1893-4d90-80d7-9d5b74990b5f",
   "metadata": {
    "tags": []
   },
   "outputs": [],
   "source": [
    "q1, q3 = weighted_percentile(a=nepal_onstove.gdf['relative_wealth'].values, q=(25, 75), weights=nepal_onstove.gdf['Households'].values)\n",
    "nepal_onstove.gdf.loc[nepal_onstove.gdf['relative_wealth']>q3, 'wealth_q'] = '>Q3'\n",
    "nepal_onstove.gdf.loc[nepal_onstove.gdf['relative_wealth']<=q3, 'wealth_q'] = 'Q1-Q3'\n",
    "nepal_onstove.gdf.loc[nepal_onstove.gdf['relative_wealth']<=q1, 'wealth_q'] = 'Q1'\n",
    "total = nepal_onstove.gdf.groupby(['Prioritized_hh']).agg({'Calibrated_pop': 'sum'})\n",
    "dff = nepal_onstove.gdf.groupby(['Prioritized_hh', 'wealth_q']).agg({'Calibrated_pop': 'sum'}).reset_index()\n",
    "dff['percentage'] = dff['Calibrated_pop'] / dff.reset_index()['Prioritized_hh'].map(total['Calibrated_pop'])\n",
    "dff"
   ]
  },
  {
   "cell_type": "code",
   "execution_count": null,
   "id": "fd75500c-b84a-4244-a89a-fa3007582380",
   "metadata": {
    "tags": []
   },
   "outputs": [],
   "source": [
    "nepal_onstove.output_directory = nepal.output_directory\n",
    "nepal_onstove.to_image('Prioritized_hh', name='Prioritized_hh.pdf', cmap=cmap, \n",
    "                       figsize=(13, 9), dpi=300, \n",
    "                       labels=labels, legend=False, legend_title='Maximum benefit\\ncooking technology', \n",
    "                       rasterized=True, stats=True, \n",
    "                       scale_bar=scale_bar_prop, north_arrow=north_arrow_prop,\n",
    "                       stats_kwargs={'extra_stats': {'Total system cost': f'{total_costs:.2f} BUS$',\n",
    "                                     'Subsidies': f'{all_subsidies:.2f} BUS$'}, \n",
    "                                     'fontsize': 14, 'stats_position': (0, 0.28), 'pad': 2, 'sep': 0})"
   ]
  },
  {
   "cell_type": "code",
   "execution_count": null,
   "id": "5e4d8e7a-6c61-4bd9-885e-479285f7c0ec",
   "metadata": {
    "tags": []
   },
   "outputs": [],
   "source": [
    "nepal_onstove.plot_costs_benefits(labels=labels, height=70/24.5, width=5.5,\n",
    "                                  save_as='cost_benefits_prioritized', \n",
    "                                  variable='Prioritized_hh')"
   ]
  },
  {
   "cell_type": "code",
   "execution_count": null,
   "id": "aa893766-9b1f-4b3a-9581-9bb71b4f02f7",
   "metadata": {},
   "outputs": [],
   "source": [
    "clean_current = (nepal_onstove.gdf['Calibrated_pop'] * nepal_onstove.clean_cooking_access).sum()"
   ]
  },
  {
   "cell_type": "code",
   "execution_count": null,
   "id": "29c2d977-3770-40c4-bf0e-7896d174e8c6",
   "metadata": {},
   "outputs": [],
   "source": [
    "current_access = clean_current / nepal_onstove.gdf['Calibrated_pop'].sum()\n",
    "print('Current clean cooking access: {:.1%}'.format(current_access))"
   ]
  },
  {
   "cell_type": "code",
   "execution_count": null,
   "id": "442a7ac5-4241-4218-8b92-8884db8a0f91",
   "metadata": {},
   "outputs": [],
   "source": [
    "nepal_onstove.gdf['Clean_pop'] = np.array(nepal_onstove.gdf['Calibrated_pop'] * nepal_onstove.clean_cooking_access)\n",
    "dff = nepal_onstove.gdf.groupby(['Prioritized_hh'])[['Calibrated_pop', 'Clean_pop']].sum().reset_index()\n",
    "clean =(dff['Prioritized_hh'].isin(['Electricity', 'Biogas']))\n",
    "none = (dff['Prioritized_hh']=='None')\n",
    "total = dff.loc[clean, 'Calibrated_pop'].sum() + dff.loc[none, 'Calibrated_pop'].sum()\n",
    "new_access = (dff.loc[clean, 'Calibrated_pop'].sum() + (dff.loc[none, 'Clean_pop']).sum()) / total\n",
    "print('New clean cooking access: {:0.1%}'.format(new_access))"
   ]
  },
  {
   "cell_type": "code",
   "execution_count": null,
   "id": "9a41fc9b-cb5c-4069-9075-72327cacab60",
   "metadata": {},
   "outputs": [],
   "source": [
    "print('Overall clean cooking access improvement: {:0.1%}'.format(new_access - current_access))"
   ]
  },
  {
   "cell_type": "code",
   "execution_count": null,
   "id": "fdbdabec-ff97-4af0-88a4-8ed19cf7243d",
   "metadata": {},
   "outputs": [],
   "source": [
    "with open(os.path.join(output_directory, 'access_results.txt'), 'w') as file:\n",
    "    file.write('Current clean cooking access: {:.1%}\\n'.format(current_access))\n",
    "    file.write('New clean cooking access: {:0.1%}\\n'.format(new_access))\n",
    "    file.write('Overall clean cooking access improvement: {:0.1%}'.format(new_access - current_access))"
   ]
  }
 ],
 "metadata": {
  "kernelspec": {
   "display_name": "Python 3 (ipykernel)",
   "language": "python",
   "name": "python3"
  },
  "language_info": {
   "codemirror_mode": {
    "name": "ipython",
    "version": 3
   },
   "file_extension": ".py",
   "mimetype": "text/x-python",
   "name": "python",
   "nbconvert_exporter": "python",
   "pygments_lexer": "ipython3",
   "version": "3.12.1"
  }
 },
 "nbformat": 4,
 "nbformat_minor": 5
}
