{
 "cells": [
  {
   "cell_type": "code",
   "execution_count": 1,
   "id": "a23f2f02",
   "metadata": {},
   "outputs": [],
   "source": [
    "import os, sys\n",
    "import numpy as np\n",
    "import geopandas as gpd\n",
    "# sys.path.append('../OnStove')"
   ]
  },
  {
   "cell_type": "code",
   "execution_count": 2,
   "id": "c0e693b1-75be-4d91-9d7a-d8f84aa7680c",
   "metadata": {},
   "outputs": [],
   "source": [
    "# %load_ext autoreload"
   ]
  },
  {
   "cell_type": "code",
   "execution_count": 3,
   "id": "91e672ff",
   "metadata": {},
   "outputs": [],
   "source": [
    "# %autoreload 2\n",
    "from onstove import OnStove, DataProcessor, RasterLayer, VectorLayer\n",
    "import time"
   ]
  },
  {
   "cell_type": "markdown",
   "id": "ab677f71",
   "metadata": {},
   "source": [
    "# Data processing"
   ]
  },
  {
   "cell_type": "markdown",
   "id": "c8146919",
   "metadata": {},
   "source": [
    "## 1. Create a data processor\n",
    "First, we will create an instance of the `DataProcessor` object that will be used to add raw datasets, process them and generate the required output datapackages for the CCE and OnSSTOVE. The `DataProcessor` object accepts three optional argument `project_crs`, `cell_size` and `output_directory`. The first, sets the Coordinate reference System (crs) to use in the project, this means that all datasets will be reprojected to match such crs. The second, is used to define the desired cell size (i.e. width and height in meters) of the output datasets, which will be used to ensure that all output datasets match such cell size. The third, is simply used as the output folder in which all results will be writen, this parameter defaults to `output`."
   ]
  },
  {
   "cell_type": "code",
   "execution_count": 4,
   "id": "1fd76c2e",
   "metadata": {},
   "outputs": [],
   "source": [
    "start = time.time()\n",
    "\n",
    "data = DataProcessor(project_crs=3857, cell_size=(1000, 1000))\n",
    "output_directory = '../5. Results'\n",
    "data.output_directory = output_directory"
   ]
  },
  {
   "cell_type": "markdown",
   "id": "b13afc4d",
   "metadata": {},
   "source": [
    "## 2. Add a mask layer (country boundaries) and a base layer\n",
    "A vector layer can be added as a mask, which will be later used to mask/clip all output datasets to the layer boundaries. For this, we use the `add_mask_layer` method providing a `name` for the layer, a `layer_path` from where to read the data and in this case the `postgres` argument as `True` that will tell that the layer is found in the PostgreSQL database."
   ]
  },
  {
   "cell_type": "code",
   "execution_count": 5,
   "id": "74ab8d3c",
   "metadata": {},
   "outputs": [],
   "source": [
    "adm_path = r\"../2. Data/Other\\Administrative boundaries\\NPL_adm1_Province0.shp\"\n",
    "data.add_mask_layer(category='Administrative', name='Country_boundaries', path=adm_path)"
   ]
  },
  {
   "cell_type": "markdown",
   "id": "9123735b",
   "metadata": {},
   "source": [
    "\n",
    "A raster base layer is needed to make every output match its grid and extent. For this, two additional options need to be passed to the `add_layer` method:\n",
    "* `base_layer`: if `True` the added layer will be considered as the base layer. \n",
    "* `resample`: this is the resampling method to be used when resampling this layer to the desired `cell_size` if a `cell_size` is provided."
   ]
  },
  {
   "cell_type": "markdown",
   "id": "b64735db",
   "metadata": {},
   "source": [
    "## 3. Add GIS layers\n",
    "Similarly, we can add data layers using the `add_layer` method. A layer `name`, `layer_path` and `postgres` conection also need to be provided (the `postgres` conection defaults to `False`). In addition, the following arguments can be passed:\n",
    "* `category`: this is used to group all datasets into a category in the final output, e.g. `demand` or `supply`. \n",
    "* `layer_type`: this argument is required with two possible options `raster` or `vector`, we should pass either one according to the dataset you are adding. \n",
    "* `resample`: this defines what resampling method to use when changing the resolution of the raster. The change of resolution happens when the layer gets aligned with the base layer."
   ]
  },
  {
   "cell_type": "markdown",
   "id": "a1d495e7",
   "metadata": {},
   "source": [
    "### Demographics"
   ]
  },
  {
   "cell_type": "code",
   "execution_count": 6,
   "id": "bd00425a",
   "metadata": {},
   "outputs": [
    {
     "name": "stderr",
     "output_type": "stream",
     "text": [
      "C:\\Users\\camilorg\\AppData\\Local\\miniconda3\\envs\\onstove_2\\lib\\site-packages\\onstove\\layer.py:936: UserWarning: The Urban_rural_divide layer do not have a defined nodata value, thus np.nan was assigned. You can change this defining the nodata value in the metadata of the variable as: variable.meta['nodata'] = value\n"
     ]
    }
   ],
   "source": [
    "pop_path = r\"../2. Data\\Demand\\Population\\HRSL\\population_npl_2018-10-01_geotiff\\population_npl_2018-10-01.tif\"\n",
    "data.add_layer(category='Demographics', name='Population', \n",
    "               path=pop_path, layer_type='raster', resample='sum')\n",
    "\n",
    "ghs_path = r\"../2. Data/Other\\Urban - Rural divide\\GHS.tif\"\n",
    "data.add_layer(category='Demographics', name='Urban_rural_divide', \n",
    "               path=ghs_path, layer_type='raster', resample='mode')"
   ]
  },
  {
   "cell_type": "markdown",
   "id": "7669c0fa",
   "metadata": {},
   "source": [
    "### Biomass"
   ]
  },
  {
   "cell_type": "code",
   "execution_count": 7,
   "id": "fbda05b7",
   "metadata": {},
   "outputs": [
    {
     "name": "stderr",
     "output_type": "stream",
     "text": [
      "C:\\Users\\camilorg\\AppData\\Local\\miniconda3\\envs\\onstove_2\\lib\\site-packages\\onstove\\layer.py:940: UserWarning: The Forest layer do not have a defined nodata value, please define the nodata value in the metadata of the variable with: variable.meta['nodata'] = value\n"
     ]
    }
   ],
   "source": [
    "forest_path = r\"../2. Data/Other\\Forest cover\\Forest_height.tif\"\n",
    "data.add_layer(category='Biomass', name='Forest',\n",
    "               path=forest_path, layer_type='raster', resample='sum')\n",
    "data.layers['Biomass']['Forest'].data[data.layers['Biomass']['Forest'].data < 5] = 0\n",
    "data.layers['Biomass']['Forest'].data[data.layers['Biomass']['Forest'].data >= 5] = 1\n",
    "data.layers['Biomass']['Forest'].meta['nodata'] = 0\n",
    "transform = data.layers['Biomass']['Forest'].calculate_default_transform(data.project_crs)[0]\n",
    "factor = (data.cell_size[0] ** 2) / (transform[0] ** 2)\n",
    "\n",
    "\n",
    "friction_path = r\"../2. Data/Other\\Walking friction\\2020_walking_only_friction_surface.geotiff\"\n",
    "data.add_layer(category='Biomass', name='Friction', path=friction_path, distance_method='travel_time',\n",
    "               layer_type='raster', resample='average', window=True, base_layer=True)"
   ]
  },
  {
   "cell_type": "markdown",
   "id": "a3a2809d",
   "metadata": {},
   "source": [
    "### Electricity"
   ]
  },
  {
   "cell_type": "markdown",
   "id": "0826d1ae-3a51-4777-a7e0-9a9a646fd545",
   "metadata": {},
   "source": [
    "#### Medium voltage lines"
   ]
  },
  {
   "cell_type": "code",
   "execution_count": 8,
   "id": "1d5c84b0-498d-42ec-ab6a-33bdd98ea0c2",
   "metadata": {},
   "outputs": [],
   "source": [
    "mv_path = r\"../2. Data\\Supply\\Power network\\MV-network\\Nepal_DL0.shp\"\n",
    "data.add_layer(category='Electricity', name='MV_lines', \n",
    "               path=mv_path, layer_type='vector',\n",
    "               query=\"Status == 'In Service' | Status == 'In Service (Private)'\")"
   ]
  },
  {
   "cell_type": "markdown",
   "id": "623d11db-13cb-4b74-9b92-8e6dd12a57c2",
   "metadata": {},
   "source": [
    "#### Night time lights"
   ]
  },
  {
   "cell_type": "code",
   "execution_count": 9,
   "id": "fd9d5d32-9281-4237-aa30-2ec53ee7a185",
   "metadata": {},
   "outputs": [
    {
     "name": "stderr",
     "output_type": "stream",
     "text": [
      "C:\\Users\\camilorg\\AppData\\Local\\miniconda3\\envs\\onstove_2\\lib\\site-packages\\onstove\\layer.py:936: UserWarning: The Night_time_lights layer do not have a defined nodata value, thus np.nan was assigned. You can change this defining the nodata value in the metadata of the variable as: variable.meta['nodata'] = value\n"
     ]
    }
   ],
   "source": [
    "ntl_path = r\"../2. Data\\Other\\Night Time Lights\\VNL_v21_npp_2020_global_vcmslcfg_c202205302300.average_masked.dat.tif\"\n",
    "data.add_layer(category='Electricity', name='Night_time_lights', \n",
    "               path=ntl_path, layer_type='raster', resample='average')"
   ]
  },
  {
   "cell_type": "markdown",
   "id": "da2ba9c2-cb72-436c-893b-5fa4a1b4b0a7",
   "metadata": {},
   "source": [
    "#### Mini grids"
   ]
  },
  {
   "cell_type": "code",
   "execution_count": 10,
   "id": "74f0ffba-5d00-4e5a-9289-205fa2900e8f",
   "metadata": {},
   "outputs": [],
   "source": [
    "mg_points_path = r\"../2. Data\\Supply\\Power network\\MG-hydro\\micro_hydropower.shp\"\n",
    "data.add_layer(category='Electricity', name='MG_points', \n",
    "               path=mg_points_path, layer_type='vector')\n",
    "\n",
    "mg_access_path = r\"../2. Data\\Supply\\Power network\\MG-hydro\\Municipalities with MG hydro\\mg_hydro.geojson\"\n",
    "data.add_layer(category='Electricity', name='MG_access', \n",
    "               path=mg_access_path, layer_type='vector')\n",
    "data.layers['Electricity']['MG_access'].data.rename({'Municipality': 'municipality', 'kW_constructed': 'capacity', 'HHs_constructed': 'households'}, inplace=True, axis=1)\n",
    "data.layers['Electricity']['MG_access'].data = data.layers['Electricity']['MG_access'].data[['municipality', 'capacity', 'households', 'geometry']]"
   ]
  },
  {
   "cell_type": "markdown",
   "id": "4da50c12",
   "metadata": {},
   "source": [
    "### LPG"
   ]
  },
  {
   "cell_type": "code",
   "execution_count": 11,
   "id": "0857e54e",
   "metadata": {},
   "outputs": [],
   "source": [
    "lpg_path = r\"../2. Data\\Other\\Traveltime\\traveltime_to_urban_by_road.tif\"\n",
    "data.add_layer(category='LPG', name='LPG Traveltime', \n",
    "               path=lpg_path, layer_type='raster', resample='average')\n",
    "\n",
    "roads_path = r\"..\\2. Data\\Other\\Roads\\Road_Networks_of_Nepal_OSM0.shp\"\n",
    "data.add_layer(category='LPG', name='Roads', \n",
    "               path=roads_path, layer_type='vector')"
   ]
  },
  {
   "cell_type": "markdown",
   "id": "874a0c85",
   "metadata": {},
   "source": [
    "### Biogas"
   ]
  },
  {
   "cell_type": "code",
   "execution_count": 12,
   "id": "cd60201e",
   "metadata": {},
   "outputs": [],
   "source": [
    "buffaloes = r\"../2. Data\\Supply\\Global livestock\\Buffaloes\\5_Bf_2010_Da.tif\"\n",
    "cattles = r\"../2. Data\\Supply\\Global livestock\\Cattle\\5_Ct_2010_Da.tif\"\n",
    "poultry = r\"../2. Data\\Supply\\Global livestock\\Chickens\\5_Ch_2010_Da.tif\"\n",
    "goats = r\"../2. Data\\Supply\\Global livestock\\Goats\\5_Gt_2010_Da.tif\"\n",
    "pigs = r\"../2. Data\\Supply\\Global livestock\\Pigs\\5_Pg_2010_Da.tif\"\n",
    "sheeps = r\"../2. Data\\Supply\\Global livestock\\Sheep\\5_Sh_2010_Da.tif\"\n",
    "\n",
    "for key, path in {'buffaloes': buffaloes,\n",
    "                  'cattles': cattles,\n",
    "                  'poultry': poultry,\n",
    "                  'goats': goats,\n",
    "                  'pigs': pigs,\n",
    "                  'sheeps': sheeps}.items():\n",
    "    data.add_layer(category='Biogas/Livestock', name=key, path=path,\n",
    "                   layer_type='raster', resample='nearest', window=True, rescale=True)"
   ]
  },
  {
   "cell_type": "code",
   "execution_count": 13,
   "id": "3e4040b9",
   "metadata": {},
   "outputs": [
    {
     "name": "stderr",
     "output_type": "stream",
     "text": [
      "C:\\Users\\camilorg\\AppData\\Local\\miniconda3\\envs\\onstove_2\\lib\\site-packages\\onstove\\layer.py:936: UserWarning: The Temperature layer do not have a defined nodata value, thus np.nan was assigned. You can change this defining the nodata value in the metadata of the variable as: variable.meta['nodata'] = value\n"
     ]
    }
   ],
   "source": [
    "temperature = r\"../2. Data\\Other\\Temperature\\TEMP.tif\"\n",
    "data.add_layer(category='Biogas', name='Temperature', path=temperature,\n",
    "               layer_type='raster', resample='average', window=True)"
   ]
  },
  {
   "cell_type": "markdown",
   "id": "ecd096ec",
   "metadata": {},
   "source": [
    "### Relative Wealth Index"
   ]
  },
  {
   "cell_type": "code",
   "execution_count": 14,
   "id": "63c78d6d",
   "metadata": {},
   "outputs": [],
   "source": [
    "wealth_path = r\"..\\2. Data\\Demand\\Wealth Index\\Relative Wealth Index.tif\"\n",
    "data.add_layer(category='Other', name='Wealth', \n",
    "               path=wealth_path,\n",
    "               layer_type='raster', normalization='MinMax', inverse=False, resample='nearest')"
   ]
  },
  {
   "cell_type": "markdown",
   "id": "8930aa5a",
   "metadata": {},
   "source": [
    "### GDP per capita"
   ]
  },
  {
   "cell_type": "code",
   "execution_count": 15,
   "id": "61c2732a",
   "metadata": {},
   "outputs": [],
   "source": [
    "data.add_layer(category='Other', name='GDP', \n",
    "               path=r\"..\\2. Data\\Demand\\GDP\\dryadfilled.tif\",\n",
    "               layer_type='raster', normalization='MinMax', inverse=False, resample='nearest')\n",
    "\n",
    "nodata = data.layers['Other']['GDP'].meta['nodata']\n",
    "data.layers['Other']['GDP'].data[data.layers['Other']['GDP'].data==nodata] = np.nan\n",
    "data.layers['Other']['GDP'].meta['nodata'] = np.nan"
   ]
  },
  {
   "cell_type": "markdown",
   "id": "655ebb1d",
   "metadata": {},
   "source": [
    "## 4. Mask reproject and align all required layers"
   ]
  },
  {
   "cell_type": "code",
   "execution_count": 16,
   "id": "920db65b",
   "metadata": {},
   "outputs": [],
   "source": [
    "data.align_layers(datasets='all')"
   ]
  },
  {
   "cell_type": "code",
   "execution_count": 17,
   "id": "97cc42be",
   "metadata": {},
   "outputs": [],
   "source": [
    "data.reproject_layers(datasets={'Electricity': ['MG_points', 'MG_access', 'MV_lines'],\n",
    "                                'LPG': ['Roads']})"
   ]
  },
  {
   "cell_type": "code",
   "execution_count": 18,
   "id": "d40a3812-7b73-41de-98c5-27f7cc06b431",
   "metadata": {},
   "outputs": [],
   "source": [
    "data.get_distance_rasters(datasets={'Electricity': ['MG_points', 'MV_lines'],\n",
    "                                    'LPG': ['Roads']})"
   ]
  },
  {
   "cell_type": "code",
   "execution_count": 19,
   "id": "8c74f77f",
   "metadata": {},
   "outputs": [],
   "source": [
    "## Calculate canopy cover\n",
    "data.layers['Biomass']['Forest'].data = data.layers['Biomass']['Forest'].data / factor\n",
    "data.layers['Biomass']['Forest'].data *= 100\n",
    "data.layers['Biomass']['Forest'].data[data.layers['Biomass']['Forest'].data > 100] = 100"
   ]
  },
  {
   "cell_type": "code",
   "execution_count": 21,
   "id": "b579ca69-2bec-4334-9ea7-4936329118dd",
   "metadata": {},
   "outputs": [],
   "source": [
    "data.save_datasets(datasets='all')"
   ]
  },
  {
   "cell_type": "markdown",
   "id": "992f76b7-65b7-4626-a112-008ff86c7ceb",
   "metadata": {},
   "source": [
    "## 5. Rasterize current cooking technologies data"
   ]
  },
  {
   "cell_type": "code",
   "execution_count": 26,
   "id": "51174eed-5127-4d37-8b72-a8c80cb7022a",
   "metadata": {},
   "outputs": [],
   "source": [
    "cooking_techs = VectorLayer(path='../2. Data/Census 2021/cooking.geojson')\n",
    "cooking_techs.reproject(data.layers['Demographics']['Population'].meta['crs'])\n",
    "tech_names = {'Percentage Wood/firewood': 'Traditional_Biomass', \n",
    "              'Percentage Liquefied Petroleum Gas': 'LPG',\n",
    "              'Percentage Electricity': 'Electricity', \n",
    "              'Percentage Bio gas': 'Biogas'}\n",
    "cooking_techs.data.rename(columns=tech_names, inplace=True)\n",
    "cooking_techs.data['Traditional_Biomass'] += cooking_techs.data['Percentage Cow dung']\n",
    "\n",
    "for tech in tech_names.values():\n",
    "    raster = cooking_techs.rasterize(raster=data.layers['Demographics']['Population'], \n",
    "                                     attribute=tech)\n",
    "    raster.name = tech\n",
    "    raster.save(f'{output_directory}/Demographics/Cooking/{tech}')"
   ]
  },
  {
   "cell_type": "code",
   "execution_count": 27,
   "id": "dbdb5fdd",
   "metadata": {},
   "outputs": [
    {
     "name": "stdout",
     "output_type": "stream",
     "text": [
      "Execution time: 12 min 23 sec\n"
     ]
    }
   ],
   "source": [
    "end = time.time()\n",
    "\n",
    "diff = end - start\n",
    "print('Execution time:', str(str(int(diff//60))) + ' min ' + str(int((diff)%60)) + ' sec')"
   ]
  }
 ],
 "metadata": {
  "kernelspec": {
   "display_name": "Python 3 (ipykernel)",
   "language": "python",
   "name": "python3"
  },
  "language_info": {
   "codemirror_mode": {
    "name": "ipython",
    "version": 3
   },
   "file_extension": ".py",
   "mimetype": "text/x-python",
   "name": "python",
   "nbconvert_exporter": "python",
   "pygments_lexer": "ipython3",
   "version": "3.11.4"
  }
 },
 "nbformat": 4,
 "nbformat_minor": 5
}
