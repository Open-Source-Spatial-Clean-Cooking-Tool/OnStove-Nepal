{
 "cells": [
  {
   "cell_type": "code",
   "execution_count": null,
   "id": "a23f2f02",
   "metadata": {},
   "outputs": [],
   "source": [
    "import os, sys\n",
    "import numpy as np\n",
    "import geopandas as gpd\n",
    "from onstove import OnStove, DataProcessor, RasterLayer, VectorLayer"
   ]
  },
  {
   "cell_type": "code",
   "execution_count": null,
   "id": "da7955c1-f72e-420e-8662-9429ee317c68",
   "metadata": {},
   "outputs": [],
   "source": [
    "snake = True  # Change this to False to run the notebook by yourself and not through snakemake"
   ]
  },
  {
   "cell_type": "markdown",
   "id": "ab677f71",
   "metadata": {},
   "source": [
    "# Data processing"
   ]
  },
  {
   "cell_type": "markdown",
   "id": "c8146919",
   "metadata": {},
   "source": [
    "## 1. Create a data processor\n",
    "First, we will create an instance of the `DataProcessor` object that will be used to add raw datasets, process them, and generate the required output datapackages for the `MCA` and `OnStove`. The `DataProcessor` object accepts three optional arguments `project_crs`, `cell_size`, and `output_directory`. The first defines the Coordinate Reference System (crs) to use in the project, this means that all datasets will be reprojected to match such crs. The second is used to define the desired cell size (i.e. width and height in meters) of the output datasets, which will be used to ensure that all output datasets match such cell size. The third is used as the output folder in which all results will be written, this parameter defaults to `output`."
   ]
  },
  {
   "cell_type": "code",
   "execution_count": null,
   "id": "1fd76c2e",
   "metadata": {},
   "outputs": [],
   "source": [
    "data = DataProcessor(project_crs=3857, cell_size=(1000, 1000))\n",
    "\n",
    "if snake:\n",
    "    data_folder = snakemake.params.gis_data\n",
    "    output_directory = snakemake.params.out_dir\n",
    "else:\n",
    "    data_folder = '../1. Data'\n",
    "    output_directory = '../4. Results/Processed GIS Data'\n",
    "data.output_directory = output_directory"
   ]
  },
  {
   "cell_type": "markdown",
   "id": "b13afc4d",
   "metadata": {},
   "source": [
    "## 2. Add a mask layer (country boundaries) and a base layer\n",
    "A vector layer can be added as a mask, which will be later used to mask/clip all output datasets to the layer boundaries. For this, we use the `add_mask_layer` method providing a `category` in which to group the data, a `name` for the layer, and a `path` from where to read the data."
   ]
  },
  {
   "cell_type": "code",
   "execution_count": null,
   "id": "74ab8d3c",
   "metadata": {},
   "outputs": [],
   "source": [
    "if snake:\n",
    "    adm_path = snakemake.input.boundaries\n",
    "else:\n",
    "    adm_path = os.path.join(data_folder, 'Administrative boundaries', 'NPL_adm0_Nepal0.shp')\n",
    "data.add_mask_layer(category='Administrative', name='Country_boundaries', path=adm_path)"
   ]
  },
  {
   "cell_type": "markdown",
   "id": "9123735b",
   "metadata": {},
   "source": [
    "\n",
    "A raster base layer is needed to make every output match its grid and extent. For this, two additional options need to be passed to the `add_layer` method:\n",
    "* `base_layer`: if `True` the added layer will be considered as the base layer. \n",
    "* `resample`: this is the resampling method to be used when resampling this layer to the desired `cell_size` if a `cell_size` is provided."
   ]
  },
  {
   "cell_type": "markdown",
   "id": "b64735db",
   "metadata": {},
   "source": [
    "## 3. Add GIS layers\n",
    "Similarly, we can add data layers using the `add_layer` method. A `category`, layer `name`, and `path` also need to be provided. In addition, the following arguments can be passed:\n",
    "* `layer_type`: this argument is required with two possible options `raster` or `vector`, we should pass either one according to the dataset you are adding. \n",
    "* `resample`: this defines what resampling method to use when changing the resolution of the raster. The change of resolution happens when the layer gets aligned with the base layer."
   ]
  },
  {
   "cell_type": "markdown",
   "id": "a1d495e7",
   "metadata": {},
   "source": [
    "### Demographics\n",
    "Here we add the datasets of the demographics category, being population, the urban / rural divide, and the relative wealth index."
   ]
  },
  {
   "cell_type": "code",
   "execution_count": null,
   "id": "bd00425a",
   "metadata": {},
   "outputs": [],
   "source": [
    "if snake:\n",
    "    pop_path = snakemake.input.population\n",
    "else:\n",
    "    pop_path =  os.path.join(data_folder, 'Demographics', 'Population', 'HRSL', 'population_npl_2018-10-01.tif')\n",
    "data.add_layer(category='Demographics', name='Population', \n",
    "               path=pop_path, layer_type='raster', resample='sum')\n",
    "\n",
    "if snake:\n",
    "    wealth_path = snakemake.input.wealth\n",
    "else:\n",
    "    wealth_path = os.path.join(data_folder, 'Demographics', 'Wealth Index', 'Relative Wealth Index.tif')\n",
    "data.add_layer(category='Demographics', name='Wealth', \n",
    "               path=wealth_path,\n",
    "               layer_type='raster', normalization='MinMax', inverse=False, resample='nearest')"
   ]
  },
  {
   "cell_type": "code",
   "execution_count": null,
   "id": "90f76fda-be0e-493a-b63b-11fb370b9312",
   "metadata": {},
   "outputs": [],
   "source": [
    "if snake:\n",
    "    municipality_path = snakemake.input.municipalities\n",
    "else:\n",
    "    municipality_path =os.path.join(data_folder, 'Administrative boundaries', 'NPL_adm3_Palika0', 'NPL_adm3_Palika0.shp')\n",
    "data.add_layer(category='Demographics', name='Urban_rural_divide', \n",
    "               path=municipality_path, layer_type='vector', distance_method='rasterize')\n",
    "\n",
    "classes = {'Gaunpalika': 11, 'Nagarpalika': 21, 'Mahanagarpalika': 21,\n",
    "           'Upamahanagarpalika': 11, 'Wildlife Reserve': 11, 'National Park': 11,\n",
    "           'Watershed and Wildlife Reserve': 11, 'Hunting Reserve': 11,\n",
    "           'Development Area': 11}\n",
    "data.layers['Demographics']['Urban_rural_divide'].data['value'] = data.layers['Demographics']['Urban_rural_divide'].data['Type_GN'].map(classes)"
   ]
  },
  {
   "cell_type": "markdown",
   "id": "7669c0fa",
   "metadata": {},
   "source": [
    "### Biomass\n",
    "Here we add the datasets related to the biomass category. These datasets are a raster layer showing the average forest height on every pixel, and a walking friction layer that will be used later to calculate the travel time to the nearest forest resource. We also perform an additional process to the forest height layer, to exclude everything below 5 meters in height and calculate a canopy cover over each pixel.\n",
    "\n",
    "**Note:** for the fricrtion layer, we also pass an additional argument `base_layer=True`, telling the `DataProcessor` to use the layer's spatial grid as the basis for the analysis. We chose this layer to be used as the base, because of its grid covering well the study area."
   ]
  },
  {
   "cell_type": "code",
   "execution_count": null,
   "id": "07c375f7-b300-4d22-8544-16c3696f41ab",
   "metadata": {},
   "outputs": [],
   "source": [
    "if snake:\n",
    "    forest_path = snakemake.input.forest\n",
    "else:\n",
    "    forest_path = os.path.join(data_folder, 'Forest cover', 'Forest_height.tif')\n",
    "data.add_layer(category='Biomass', name='Forest',\n",
    "               path=forest_path, layer_type='raster', resample='sum')\n",
    "data.layers['Biomass']['Forest'].data[data.layers['Biomass']['Forest'].data < 5] = 0\n",
    "data.layers['Biomass']['Forest'].data[data.layers['Biomass']['Forest'].data >= 5] = 1\n",
    "data.layers['Biomass']['Forest'].meta['nodata'] = 0\n",
    "transform = data.layers['Biomass']['Forest'].calculate_default_transform(data.project_crs)[0]\n",
    "factor = (data.cell_size[0] ** 2) / (transform[0] ** 2)"
   ]
  },
  {
   "cell_type": "code",
   "execution_count": null,
   "id": "ad1544db-37fa-40b6-8973-67147e46a664",
   "metadata": {},
   "outputs": [],
   "source": [
    "if snake:\n",
    "    friction_path = snakemake.input.walking_friction\n",
    "else:\n",
    "    friction_path = os.path.join(data_folder, 'Walking friction', '202001_Global_Walking_Only_Friction_Surface_2019_Cropped.tif')\n",
    "data.add_layer(category='Biomass', name='Friction', path=friction_path, distance_method='travel_time',\n",
    "               layer_type='raster', resample='average', window=True, base_layer=True)"
   ]
  },
  {
   "cell_type": "markdown",
   "id": "a3a2809d",
   "metadata": {},
   "source": [
    "### Electricity\n",
    "Here we add all datasets related to the electricity category. These datasets are the medium voltage lines, the night time lights and minigrids locations and capacity."
   ]
  },
  {
   "cell_type": "markdown",
   "id": "0826d1ae-3a51-4777-a7e0-9a9a646fd545",
   "metadata": {},
   "source": [
    "#### Medium voltage lines"
   ]
  },
  {
   "cell_type": "code",
   "execution_count": null,
   "id": "1d5c84b0-498d-42ec-ab6a-33bdd98ea0c2",
   "metadata": {},
   "outputs": [],
   "source": [
    "if snake:\n",
    "    mv_path = snakemake.input.mv_lines\n",
    "else:\n",
    "    mv_path = os.path.join(data_folder, 'Power network', 'MV-network', 'Nepal_DL0.shp')\n",
    "data.add_layer(category='Electricity', name='MV_lines', \n",
    "               path=mv_path, layer_type='vector',\n",
    "               query=\"Status == 'In Service' | Status == 'In Service (Private)'\")"
   ]
  },
  {
   "cell_type": "markdown",
   "id": "623d11db-13cb-4b74-9b92-8e6dd12a57c2",
   "metadata": {},
   "source": [
    "#### Night time lights"
   ]
  },
  {
   "cell_type": "code",
   "execution_count": null,
   "id": "fd9d5d32-9281-4237-aa30-2ec53ee7a185",
   "metadata": {},
   "outputs": [],
   "source": [
    "if snake:\n",
    "    ntl_path = snakemake.input.ntl\n",
    "else:\n",
    "    ntl_path = os.path.join(data_folder, 'Night Time Lights', 'VNL_v21_npp_2020_global_vcmslcfg_c202205302300.average_masked.dat_cropped.tif')\n",
    "data.add_layer(category='Electricity', name='Night_time_lights', \n",
    "               path=ntl_path, layer_type='raster', resample='average')"
   ]
  },
  {
   "cell_type": "markdown",
   "id": "da2ba9c2-cb72-436c-893b-5fa4a1b4b0a7",
   "metadata": {},
   "source": [
    "#### Mini grids"
   ]
  },
  {
   "cell_type": "code",
   "execution_count": null,
   "id": "74f0ffba-5d00-4e5a-9289-205fa2900e8f",
   "metadata": {},
   "outputs": [],
   "source": [
    "if snake:\n",
    "    mg_points_path = snakemake.input.mg_points\n",
    "else:\n",
    "    mg_points_path = os.path.join(data_folder, 'Power network', 'MG-hydro', 'micro_hydropower.shp')\n",
    "data.add_layer(category='Electricity', name='MG_points', \n",
    "               path=mg_points_path, layer_type='vector')\n",
    "\n",
    "if snake:\n",
    "    mg_access_path = snakemake.input.mg_capacity\n",
    "else:\n",
    "    mg_access_path = os.path.join(data_folder, 'Power network', 'MG-hydro', 'Municipalities with MG hydro', 'mg_hydro.geojson')\n",
    "data.add_layer(category='Electricity', name='MG_access', \n",
    "               path=mg_access_path, layer_type='vector')\n",
    "data.layers['Electricity']['MG_access'].data.rename({'Municipality': 'municipality', 'kW_constructed': 'capacity', 'HHs_constructed': 'households'}, inplace=True, axis=1)\n",
    "data.layers['Electricity']['MG_access'].data = data.layers['Electricity']['MG_access'].data[['municipality', 'capacity', 'households', 'geometry']]"
   ]
  },
  {
   "cell_type": "markdown",
   "id": "4da50c12",
   "metadata": {},
   "source": [
    "### LPG\n",
    "Here we add all datasets related to LPG category. They are the travel time to the nearest urban center using a motorized mean, and the roads network."
   ]
  },
  {
   "cell_type": "code",
   "execution_count": null,
   "id": "0857e54e",
   "metadata": {},
   "outputs": [],
   "source": [
    "if snake:\n",
    "    lpg_path = snakemake.input.traveltime_urban\n",
    "else:\n",
    "    lpg_path = os.path.join(data_folder, 'Traveltime', 'traveltime_to_urban_by_road_cropped.tif')\n",
    "data.add_layer(category='LPG', name='LPG_traveltime', \n",
    "               path=lpg_path, layer_type='raster', resample='average')\n",
    "\n",
    "if snake:\n",
    "    roads_path = snakemake.input.roads\n",
    "else:\n",
    "    roads_path = os.path.join(data_folder, 'Roads', 'Road_Networks_of_Nepal_OSM0.shp')\n",
    "data.add_layer(category='LPG', name='Roads', \n",
    "               path=roads_path, layer_type='vector')"
   ]
  },
  {
   "cell_type": "markdown",
   "id": "874a0c85",
   "metadata": {},
   "source": [
    "### Biogas\n",
    "Here we add all datasets related to the biogas category. The datasets include livestock counts of buffaloes, cattle, chickens, goats, pigs and sheeps. We also add an extra layer to account for temperature, as at low temperatures biogas production is not efficient."
   ]
  },
  {
   "cell_type": "code",
   "execution_count": null,
   "id": "cd60201e",
   "metadata": {},
   "outputs": [],
   "source": [
    "if snake:\n",
    "    buffaloes = snakemake.input.buffaloes\n",
    "    cattle = snakemake.input.cattle\n",
    "    poultry = snakemake.input.poultry\n",
    "    goats = snakemake.input.goats\n",
    "    pigs = snakemake.input.pigs\n",
    "    sheeps = snakemake.input.sheeps\n",
    "else:\n",
    "    buffaloes = os.path.join(data_folder, 'Global livestock', 'Buffaloes', '5_Bf_2015_Da.tif')\n",
    "    cattle = os.path.join(data_folder, 'Global livestock', 'Cattle', '5_Ct_2015_Da.tif')\n",
    "    poultry = os.path.join(data_folder, 'Global livestock', 'Chickens', '5_Ch_2015_Da.tif')\n",
    "    goats =os.path.join(data_folder, 'Global livestock', 'Goats', '5_Gt_2015_Da.tif')\n",
    "    pigs = os.path.join(data_folder, 'Global livestock', 'Pigs', '5_Pg_2015_Da.tif')\n",
    "    sheeps = os.path.join(data_folder, 'Global livestock', 'Sheep', '5_Sh_2015_Da.tif')\n",
    "\n",
    "for key, path in {'buffaloes': buffaloes,\n",
    "                  'cattle': cattle,\n",
    "                  'poultry': poultry,\n",
    "                  'goats': goats,\n",
    "                  'pigs': pigs,\n",
    "                  'sheeps': sheeps}.items():\n",
    "    data.add_layer(category='Biogas/Livestock', name=key, path=path,\n",
    "                   layer_type='raster', resample='nearest', window=True, rescale=True)"
   ]
  },
  {
   "cell_type": "code",
   "execution_count": null,
   "id": "3e4040b9",
   "metadata": {},
   "outputs": [],
   "source": [
    "if snake:\n",
    "    temperature = snakemake.input.temperature\n",
    "else:\n",
    "    temperature = os.path.join(data_folder, 'Temperature', 'TEMP.tif')\n",
    "data.add_layer(category='Biogas', name='Temperature', path=temperature,\n",
    "               layer_type='raster', resample='average', window=True)"
   ]
  },
  {
   "cell_type": "markdown",
   "id": "655ebb1d",
   "metadata": {},
   "source": [
    "## 4. Mask reproject and align all required layers\n",
    "After reading all datasets, we will align and reproject all rasters to the base layer, reproject the vector layers, calculate all needed distance rasters, finish calculating the canopy cover, and save all processed datasets to the `output_directory`."
   ]
  },
  {
   "cell_type": "code",
   "execution_count": null,
   "id": "920db65b",
   "metadata": {},
   "outputs": [],
   "source": [
    "data.align_layers(datasets='all')\n",
    "\n",
    "data.reproject_layers(datasets={'Electricity': ['MG_points', 'MG_access', 'MV_lines'],\n",
    "                                'LPG': ['Roads'],\n",
    "                                'Demographics': ['Urban_rural_divide']})\n",
    "\n",
    "data.get_distance_rasters(datasets={'Electricity': ['MG_points', 'MV_lines'],\n",
    "                                    'LPG': ['Roads'],\n",
    "                                    'Demographics': ['Urban_rural_divide']})\n",
    "\n",
    "data.mask_layers(datasets='all')"
   ]
  },
  {
   "cell_type": "code",
   "execution_count": null,
   "id": "8c74f77f",
   "metadata": {},
   "outputs": [],
   "source": [
    "## Finish calculating the canopy cover\n",
    "data.layers['Biomass']['Forest'].data = data.layers['Biomass']['Forest'].data / factor\n",
    "data.layers['Biomass']['Forest'].data *= 100\n",
    "data.layers['Biomass']['Forest'].data[data.layers['Biomass']['Forest'].data > 100] = 100"
   ]
  },
  {
   "cell_type": "code",
   "execution_count": null,
   "id": "b579ca69-2bec-4334-9ea7-4936329118dd",
   "metadata": {},
   "outputs": [],
   "source": [
    "data.save_datasets(datasets='all')"
   ]
  }
 ],
 "metadata": {
  "kernelspec": {
   "display_name": "Python 3 (ipykernel)",
   "language": "python",
   "name": "python3"
  },
  "language_info": {
   "codemirror_mode": {
    "name": "ipython",
    "version": 3
   },
   "file_extension": ".py",
   "mimetype": "text/x-python",
   "name": "python",
   "nbconvert_exporter": "python",
   "pygments_lexer": "ipython3",
   "version": "3.12.1"
  }
 },
 "nbformat": 4,
 "nbformat_minor": 5
}
