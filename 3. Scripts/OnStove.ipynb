{
 "cells": [
  {
   "cell_type": "code",
   "execution_count": null,
   "id": "69b19018",
   "metadata": {
    "tags": []
   },
   "outputs": [],
   "source": [
    "%matplotlib inline\n",
    "import os, sys\n",
    "import numpy as np\n",
    "import geopandas as gpd\n",
    "import pandas as pd\n",
    "from plotnine.stats.stat_boxplot import weighted_percentile\n",
    "import matplotlib.pyplot as plt\n",
    "from onstove import OnStove, DataProcessor, RasterLayer, VectorLayer, Technology\n",
    "from helper_functions import get_tariff, swatches, plot_baseline_split"
   ]
  },
  {
   "cell_type": "code",
   "execution_count": null,
   "id": "39c78e1a-0945-4ffe-b13b-46c152711ddf",
   "metadata": {},
   "outputs": [],
   "source": [
    "snake = True  # Change this to False to run the notebook by yourself and not through snakemake"
   ]
  },
  {
   "cell_type": "markdown",
   "id": "1b1af13a-c474-4c97-97b1-9baf9035113a",
   "metadata": {
    "tags": []
   },
   "source": [
    "# Setup\n",
    "## Choose the scenario to run\n",
    "Choose betwee `Social_optimum`, `High_sub_lpg`, `Low_sub_lpg`, and `Stated_policies`."
   ]
  },
  {
   "cell_type": "code",
   "execution_count": null,
   "id": "eb3a2ce4-5ef8-42c2-b4c8-c441f844d34c",
   "metadata": {
    "tags": []
   },
   "outputs": [],
   "source": [
    "if snake:\n",
    "    scenario = snakemake.params.scenario\n",
    "    gis_data_directory = snakemake.params.processed_data\n",
    "    input_data_directory = os.path.join(snakemake.params.scenario_inputs, scenario)\n",
    "    output_directory = os.path.join(snakemake.params.results_folder, scenario)\n",
    "else:\n",
    "    scenario = 'High_sub_lpg'\n",
    "    gis_data_directory = os.path.join('..', '4. Results', 'Processed GIS Data')\n",
    "    input_data_directory = os.path.join('..', '2. Scenario inputs', scenario)\n",
    "    output_directory = os.path.join('..', '4. Results', scenario)\n",
    "    \n",
    "exchange_rate = 123.9838 # NPR/USD"
   ]
  },
  {
   "cell_type": "markdown",
   "id": "1d5fbba4-e9d9-461f-9f5e-87e21787069d",
   "metadata": {},
   "source": [
    "## Go to the relevant step to run\n",
    "1. [Model preparation](#Model-preparation)\n",
    "2. [Model run](#Model-run)\n",
    "3. [Plotting and saving maps](#Plotting-and-saving-maps)"
   ]
  },
  {
   "cell_type": "markdown",
   "id": "df2deea1",
   "metadata": {},
   "source": [
    "# Model preparation"
   ]
  },
  {
   "cell_type": "markdown",
   "id": "70745b24",
   "metadata": {},
   "source": [
    "## 1. Create an OnSSTOVE model"
   ]
  },
  {
   "cell_type": "code",
   "execution_count": null,
   "id": "f5418877",
   "metadata": {},
   "outputs": [],
   "source": [
    "nepal = OnStove(project_crs=3857)\n",
    "nepal.output_directory = output_directory"
   ]
  },
  {
   "cell_type": "markdown",
   "id": "542a1476",
   "metadata": {},
   "source": [
    "## 2. Read the model data"
   ]
  },
  {
   "cell_type": "code",
   "execution_count": null,
   "id": "8581a55c",
   "metadata": {},
   "outputs": [],
   "source": [
    "path = os.path.join(input_data_directory, 'Nepal_soc.csv')\n",
    "nepal.read_scenario_data(path, delimiter=',')"
   ]
  },
  {
   "cell_type": "markdown",
   "id": "f3ee4d1e",
   "metadata": {},
   "source": [
    "## 3. Add a country mask layer"
   ]
  },
  {
   "cell_type": "code",
   "execution_count": null,
   "id": "59911b04",
   "metadata": {},
   "outputs": [],
   "source": [
    "path = os.path.join(gis_data_directory, 'Administrative', 'Country_boundaries', 'Country_boundaries.geojson')\n",
    "mask_layer = VectorLayer('admin', 'adm_0', path=path)\n",
    "nepal.mask_layer = mask_layer"
   ]
  },
  {
   "cell_type": "markdown",
   "id": "1a632680",
   "metadata": {},
   "source": [
    "## 4. Add a population base layer"
   ]
  },
  {
   "cell_type": "code",
   "execution_count": null,
   "id": "c0bda4d0",
   "metadata": {},
   "outputs": [],
   "source": [
    "path = os.path.join(gis_data_directory, 'Demographics', 'Population', 'Population.tif')\n",
    "nepal.add_layer(category='Demographics', name='Population', path=path, layer_type='raster', base_layer=True)\n",
    "nepal.population_to_dataframe()"
   ]
  },
  {
   "cell_type": "markdown",
   "id": "58fa105a",
   "metadata": {},
   "source": [
    "## 5. Calibrate population and urban/rural split"
   ]
  },
  {
   "cell_type": "code",
   "execution_count": null,
   "id": "3be6fac0",
   "metadata": {
    "scrolled": true,
    "tags": []
   },
   "outputs": [],
   "source": [
    "ghs_path = os.path.join(gis_data_directory, 'Demographics', 'Urban_rural_divide', 'Urban_rural_divide.tif')\n",
    "nepal.calibrate_urban_rural_split(ghs_path)"
   ]
  },
  {
   "cell_type": "markdown",
   "id": "67dff904",
   "metadata": {},
   "source": [
    "## 6. Add wealth index GIS data"
   ]
  },
  {
   "cell_type": "code",
   "execution_count": null,
   "id": "e5173873",
   "metadata": {},
   "outputs": [],
   "source": [
    "wealth_path = os.path.join(gis_data_directory, 'Demographics', 'Wealth', 'Wealth.tif')\n",
    "wealth_index = RasterLayer('Demographics', 'relative_wealth', path=wealth_path)\n",
    "nepal.raster_to_dataframe(wealth_index, name='relative_wealth', method='read', \n",
    "                          fill_nodata_method='interpolate')"
   ]
  },
  {
   "cell_type": "markdown",
   "id": "9de6cbb2",
   "metadata": {},
   "source": [
    "## 7. Calculate value of time"
   ]
  },
  {
   "cell_type": "code",
   "execution_count": null,
   "id": "7e31ec51",
   "metadata": {},
   "outputs": [],
   "source": [
    "# Based on wealth index, minimum wage and a lower and upper range for the cost of opportunity\n",
    "nepal.get_value_of_time()"
   ]
  },
  {
   "cell_type": "markdown",
   "id": "b39f7a7a",
   "metadata": {},
   "source": [
    "## 8. Read electricity network GIS layers"
   ]
  },
  {
   "cell_type": "code",
   "execution_count": null,
   "id": "ae83f221",
   "metadata": {},
   "outputs": [],
   "source": [
    "# Read MV lines\n",
    "path = os.path.join(gis_data_directory, 'Electricity', 'MV_lines', 'MV_lines.geojson')\n",
    "mv_lines = VectorLayer('Electricity', 'MV_lines', path=path)\n",
    "\n",
    "# Read MG\n",
    "path = os.path.join(gis_data_directory, 'Electricity', 'MG_access', 'MG_access.geojson')\n",
    "mg_access = VectorLayer('Electricity', 'MG_access', path=path)"
   ]
  },
  {
   "cell_type": "markdown",
   "id": "524b2759",
   "metadata": {},
   "source": [
    "### 8.1. Calculate distance to electricity infrastructure "
   ]
  },
  {
   "cell_type": "code",
   "execution_count": null,
   "id": "f0aa5eb1",
   "metadata": {},
   "outputs": [],
   "source": [
    "nepal.distance_to_electricity(mv_lines=mv_lines)"
   ]
  },
  {
   "cell_type": "markdown",
   "id": "7b2c7dfe",
   "metadata": {},
   "source": [
    "### 8.2. Add night time lights data"
   ]
  },
  {
   "cell_type": "code",
   "execution_count": null,
   "id": "8adf035b",
   "metadata": {},
   "outputs": [],
   "source": [
    "path = os.path.join(gis_data_directory, 'Electricity', 'Night_time_lights', 'Night_time_lights.tif')\n",
    "ntl = RasterLayer('Electricity', 'Night_time_lights', path=path)\n",
    "\n",
    "nepal.raster_to_dataframe(ntl, name='Night_lights', method='read')"
   ]
  },
  {
   "cell_type": "markdown",
   "id": "07d176a1",
   "metadata": {},
   "source": [
    "## 9. Calibrate current electrified population"
   ]
  },
  {
   "cell_type": "code",
   "execution_count": null,
   "id": "ae66bed8",
   "metadata": {
    "scrolled": true
   },
   "outputs": [],
   "source": [
    "nepal.current_elec()\n",
    "nepal.final_elec()\n",
    "\n",
    "print('Calibrated grid electrified population fraction:', nepal.gdf['Elec_pop_calib'].sum() / nepal.gdf['Calibrated_pop'].sum())"
   ]
  },
  {
   "cell_type": "markdown",
   "id": "de858f2f",
   "metadata": {},
   "source": [
    "## 10. Read the cooking technologies data"
   ]
  },
  {
   "cell_type": "code",
   "execution_count": null,
   "id": "8df01aca",
   "metadata": {},
   "outputs": [],
   "source": [
    "path = os.path.join(input_data_directory, 'Nepal_tech.csv')\n",
    "nepal.read_tech_data(path, delimiter=',')"
   ]
  },
  {
   "cell_type": "markdown",
   "id": "889e06ce",
   "metadata": {},
   "source": [
    "## 11. Adding Electric cooking data"
   ]
  },
  {
   "cell_type": "markdown",
   "id": "20731e97-4b26-47ed-b88d-d893a36e720c",
   "metadata": {},
   "source": [
    "### 11.1. Mini grids coverage and ecooking potential"
   ]
  },
  {
   "cell_type": "code",
   "execution_count": null,
   "id": "f922da3f-71bb-4220-bba5-f267343e3503",
   "metadata": {},
   "outputs": [],
   "source": [
    "mg_dist_path = os.path.join(gis_data_directory, 'Electricity', 'MG_points', 'MG_points_dist.tif')\n",
    "mg_access_path = os.path.join(gis_data_directory, 'Electricity', 'MG_access', 'MG_access.geojson')\n",
    "ntl_path = os.path.join(gis_data_directory, 'Electricity', 'Night_time_lights', 'Night_time_lights.tif')\n",
    "\n",
    "nepal.techs['Mini_Grids'].distance = mg_dist_path\n",
    "nepal.techs['Mini_Grids'].coverage = mg_access_path\n",
    "nepal.techs['Mini_Grids'].ntl = ntl_path"
   ]
  },
  {
   "cell_type": "markdown",
   "id": "9a6dbf00-1e45-4cf0-b996-f66d6d9848d2",
   "metadata": {
    "tags": []
   },
   "source": [
    "### 11.2. Adding percentage of households that need to upgrade connection and electricity cost "
   ]
  },
  {
   "cell_type": "code",
   "execution_count": null,
   "id": "c97c361b-882f-49f6-b7d4-e7119ff6bba9",
   "metadata": {},
   "outputs": [],
   "source": [
    "breaker_upgrade = VectorLayer(path=os.path.join('..', '1. Data', 'Breaker size & monthly elec cost GDF', 'province_breakersize.geojson'))"
   ]
  },
  {
   "cell_type": "code",
   "execution_count": null,
   "id": "a9d1f007-0af6-4665-b4cb-fccb338e225f",
   "metadata": {},
   "outputs": [],
   "source": [
    "if scenario in ['High_sub_lpg', 'Low_sub_lpg', 'Stated_policies']: \n",
    "    electricity_tariffs = pd.read_csv(os.path.join('..', '1. Data', 'Breaker size & monthly elec cost GDF', 'electricity_tariffs.csv'))\n",
    "    breaker_upgrade.data.rename(columns={'5(Amps)': 5, '6-15(Amps)': 15, '16-30(Amps)': 30, '31-60(Amps)': 60}, inplace=True)\n",
    "    breaker_melted = breaker_upgrade.data.melt(id_vars=['Province'],\n",
    "                                               value_vars=[5, 15, 30, 60])\n",
    "    breaker_melted.loc[breaker_melted['variable']==5, 'variable'] = 15\n",
    "\n",
    "    nepal.techs['Electricity'].required_energy(nepal)\n",
    "    breaker_melted['elec_cost'] = breaker_melted.apply(lambda row: get_tariff(row, \n",
    "                                                                              nepal.techs['Electricity'].energy,\n",
    "                                                                              electricity_tariffs, \n",
    "                                                                              exchange_rate), \n",
    "                                                       axis=1)\n",
    "    \n",
    "    for province in breaker_melted['Province'].unique():\n",
    "        dff = breaker_melted.loc[breaker_melted['Province'] == province, ['elec_cost', 'value']]\n",
    "        cost = sum(dff['value'] * dff['elec_cost']) / dff['value'].sum()\n",
    "        breaker_upgrade.data.loc[breaker_upgrade.data['Province']==province, 'elec_cost'] = cost    "
   ]
  },
  {
   "cell_type": "code",
   "execution_count": null,
   "id": "e51e7aed-3287-4b43-af72-d620814a4e59",
   "metadata": {},
   "outputs": [],
   "source": [
    "elec_data = nepal.gdf[['Households', 'geometry']].sjoin(breaker_upgrade.data[['%_households_upgrade', 'elec_cost', 'geometry']], how='left')"
   ]
  },
  {
   "cell_type": "code",
   "execution_count": null,
   "id": "50339233",
   "metadata": {},
   "outputs": [],
   "source": [
    "if scenario in ['High_sub_lpg', 'Low_sub_lpg', 'Stated_policies']: \n",
    "    nepal.techs['Electricity'].fuel_cost = elec_data['elec_cost']\n",
    "    nepal.techs['Mini_Grids'].fuel_cost = elec_data['elec_cost']\n",
    "nepal.techs['Electricity'].connection_cost *= elec_data['%_households_upgrade']"
   ]
  },
  {
   "cell_type": "markdown",
   "id": "81261ddd",
   "metadata": {},
   "source": [
    "### 11.3. Calculating grid added capacity cost"
   ]
  },
  {
   "cell_type": "code",
   "execution_count": null,
   "id": "eca5afee",
   "metadata": {},
   "outputs": [],
   "source": [
    "nepal.techs['Electricity'].get_capacity_cost(nepal)"
   ]
  },
  {
   "cell_type": "markdown",
   "id": "5ad7c50b",
   "metadata": {},
   "source": [
    "## 12. Reading GIS data for LPG supply"
   ]
  },
  {
   "cell_type": "code",
   "execution_count": null,
   "id": "de8904da",
   "metadata": {},
   "outputs": [],
   "source": [
    "lpg = RasterLayer('LPG', 'LPG_traveltime', \n",
    "                  os.path.join(gis_data_directory, 'LPG', 'LPG_traveltime', 'LPG_traveltime.tif'))\n",
    "nepal.techs['LPG'].travel_time = nepal.raster_to_dataframe(lpg,\n",
    "                                                           fill_nodata_method='interpolate', \n",
    "                                                           method='read') * 2 / 60"
   ]
  },
  {
   "cell_type": "markdown",
   "id": "4c282f6d",
   "metadata": {},
   "source": [
    "## 13. Adding GIS data for Traditional and Improved Biomass"
   ]
  },
  {
   "cell_type": "code",
   "execution_count": null,
   "id": "e99b0cbd",
   "metadata": {},
   "outputs": [],
   "source": [
    "nepal.techs['Traditional_Biomass'].friction_path = os.path.join(gis_data_directory, 'Biomass', 'Friction', 'Friction.tif')\n",
    "nepal.techs['Traditional_Biomass'].forest_path = os.path.join(gis_data_directory, 'Biomass', 'Forest', 'Forest.tif')\n",
    "nepal.techs['Traditional_Biomass'].forest_condition = lambda x: x > 30\n",
    "\n",
    "nepal.techs['Biomass_ICS_T2'].friction_path = os.path.join(gis_data_directory, 'Biomass', 'Friction', 'Friction.tif')\n",
    "nepal.techs['Biomass_ICS_T2'].forest_path = os.path.join(gis_data_directory, 'Biomass', 'Forest', 'Forest.tif')\n",
    "nepal.techs['Biomass_ICS_T2'].forest_condition = lambda x: x > 30\n",
    "\n",
    "nepal.techs['Biomass_ICS_T3'].friction_path = os.path.join(gis_data_directory, 'Biomass', 'Friction', 'Friction.tif')\n",
    "nepal.techs['Biomass_ICS_T3'].forest_path = os.path.join(gis_data_directory, 'Biomass', 'Forest', 'Forest.tif')\n",
    "nepal.techs['Biomass_ICS_T3'].forest_condition = lambda x: x > 30"
   ]
  },
  {
   "cell_type": "markdown",
   "id": "cf5b4224",
   "metadata": {},
   "source": [
    "## 14. Adding GIS data for Biogas"
   ]
  },
  {
   "cell_type": "code",
   "execution_count": null,
   "id": "df780d5b",
   "metadata": {},
   "outputs": [],
   "source": [
    "buffaloes = os.path.join(gis_data_directory, 'Biogas', 'Livestock', 'buffaloes', 'buffaloes.tif')\n",
    "cattles = os.path.join(gis_data_directory, 'Biogas', 'Livestock', 'cattle', 'cattle.tif')\n",
    "poultry =os.path.join(gis_data_directory, 'Biogas', 'Livestock', 'poultry', 'poultry.tif')\n",
    "goats = os.path.join(gis_data_directory, 'Biogas', 'Livestock', 'goats', 'goats.tif')\n",
    "pigs = os.path.join(gis_data_directory, 'Biogas', 'Livestock', 'pigs', 'pigs.tif')\n",
    "sheeps = os.path.join(gis_data_directory, 'Biogas', 'Livestock', 'sheeps', 'sheeps.tif')\n",
    "\n",
    "nepal.techs['Biogas'].temperature = os.path.join(gis_data_directory, 'Biogas', 'Temperature', 'Temperature.tif')\n",
    "nepal.techs['Biogas'].recalibrate_livestock(nepal, buffaloes, cattles, poultry, goats, pigs, sheeps)\n",
    "nepal.techs['Biogas'].friction_path = os.path.join(gis_data_directory, 'Biomass', 'Friction', 'Friction.tif')"
   ]
  },
  {
   "cell_type": "markdown",
   "id": "6a4aea43-57bd-4cba-8764-a1749d695990",
   "metadata": {},
   "source": [
    "## 15. Ploting the baseline technology split"
   ]
  },
  {
   "cell_type": "code",
   "execution_count": null,
   "id": "c02ef2d6-77bf-4be8-b1eb-dc84200de72d",
   "metadata": {},
   "outputs": [],
   "source": [
    "labels = {\"Biogas and Electricity\": \"Electricity and Biogas\",\n",
    "          \"Biogas and LPG\": \"LPG and Biogas\",\n",
    "          \"Biogas and Biomass ICS T3\": \"Biomass ICS T3 and Biogas\",\n",
    "          \"Biogas and Biomass ICS T2\": \"Biomass ICS T2 and Biogas\",\n",
    "          \"Biogas and Mini Grids\": \"Mini Grids and Biogas\"}\n",
    "\n",
    "others = pd.DataFrame({'tech': ['Others', 'Others'], 'Population': [428384.8408, 462490.8129], 'region': ['Urban', 'Rural']})\n",
    "plot_baseline_split(model=nepal, labels=labels, others=others)"
   ]
  },
  {
   "cell_type": "markdown",
   "id": "c7cc65a8",
   "metadata": {},
   "source": [
    "## 16. Saving the prepared model inputs"
   ]
  },
  {
   "cell_type": "code",
   "execution_count": null,
   "id": "0eebb172",
   "metadata": {},
   "outputs": [],
   "source": [
    "os.makedirs(nepal.output_directory, exist_ok=True)\n",
    "nepal.to_pickle(\"model.pkl\")"
   ]
  },
  {
   "cell_type": "markdown",
   "id": "394d6632-23aa-4e38-819e-1df4c78fd574",
   "metadata": {},
   "source": [
    "[Get back to setup](#Setup)"
   ]
  },
  {
   "cell_type": "markdown",
   "id": "19d2ee24",
   "metadata": {},
   "source": [
    "# Model run"
   ]
  },
  {
   "cell_type": "markdown",
   "id": "a551030f",
   "metadata": {},
   "source": [
    "## 1. Read the OnSSTOVE model"
   ]
  },
  {
   "cell_type": "code",
   "execution_count": null,
   "id": "38e7b7f3",
   "metadata": {},
   "outputs": [],
   "source": [
    "nepal = OnStove.read_model(os.path.join(output_directory, 'model.pkl'))\n",
    "nepal.output_directory = output_directory"
   ]
  },
  {
   "cell_type": "markdown",
   "id": "e0f197f5-0ee0-477a-8605-c226ca2c83ef",
   "metadata": {},
   "source": [
    "## 2. Adding subsidies"
   ]
  },
  {
   "cell_type": "markdown",
   "id": "24cd24ee-8c96-4565-8c16-790087d92a42",
   "metadata": {},
   "source": [
    "### 2.1. Biomass ICS Tier 3 stoves\n",
    "According to the [Renewable Energy Subsidy Policy 2022](https://www.aepc.gov.np/uploads/docs/uu-a-1648949209.pdf) subsidies will be given to:\n",
    ">50% subsidy for one or two pot hole with full or partial metal body rocket (not to exceed Rs. 3,000) & gasifier stoves (not to exceed Rs. 4,000) in rural and peri-urban areas"
   ]
  },
  {
   "cell_type": "code",
   "execution_count": null,
   "id": "99aeba47-8cce-44c5-b29d-314244b9f57f",
   "metadata": {},
   "outputs": [],
   "source": [
    "if scenario in ['Stated_policies', 'High_sub_lpg', 'Low_sub_lpg']:\n",
    "    nepal.techs['Biomass_ICS_T3'].inv_cost = pd.Series(nepal.techs['Biomass_ICS_T3'].inv_cost * np.ones(nepal.gdf.shape[0]), \n",
    "                                                       index=nepal.gdf.index)\n",
    "    nepal.techs['Biomass_ICS_T3'].inv_cost.loc[(nepal.gdf['IsUrban'] < 20)] *= 0.5"
   ]
  },
  {
   "cell_type": "markdown",
   "id": "2fa3c4eb-aaa8-4eee-985e-54383c8a1b64",
   "metadata": {},
   "source": [
    "### 2.2. Biogas digester investments\n",
    "According to the [Renewable Energy Subsidy Policy 2022](https://www.aepc.gov.np/uploads/docs/uu-a-1648949209.pdf), subsidies will be provided for the investments in biodigesters depending on their size and ecological zone:\n",
    "Region|2 cubic meters|4 cubic meters|6 cubic meters and above|Average (Rs)|Average (USD)\n",
    ":---|---:|---:|---:|---:|---:\n",
    "Mountain districts|32,500|39,000|45,500|39,000|314\n",
    "Hill districts|26,000|32,500|39,000|32,500|262\n",
    "Terai districts|19,200|24,000|28,800|24,000|193\n",
    "\n",
    "We use the average subsidie per ecological zone."
   ]
  },
  {
   "cell_type": "code",
   "execution_count": null,
   "id": "d163935a-90cb-4dfb-9ec6-92e823ba8301",
   "metadata": {},
   "outputs": [],
   "source": [
    "if scenario in ['High_sub_lpg', 'Stated_policies', 'Low_sub_lpg']:\n",
    "    eco_zones = VectorLayer(path=os.path.join('..', '1. Data', 'Ecological zones', 'Ecological zones.geojson'))\n",
    "    eco_zones.reproject(3857)\n",
    "    zones = nepal.gdf[['Households', 'geometry']].sjoin(eco_zones.data[['zone', 'geometry']], how='left')\n",
    "    nepal.gdf['eco_zone'] = zones['zone']\n",
    "    nepal.techs['Biogas'].inv_cost = pd.Series(nepal.techs['Biogas'].inv_cost * np.ones(nepal.gdf.shape[0]), \n",
    "                                               index=nepal.gdf.index)\n",
    "    nepal.techs['Biogas'].inv_cost.loc[(nepal.gdf['eco_zone']=='Terai')] -= 193.5736766\n",
    "    nepal.techs['Biogas'].inv_cost.loc[(nepal.gdf['eco_zone']=='Hills')] -= 262.1310203\n",
    "    nepal.techs['Biogas'].inv_cost.loc[(nepal.gdf['eco_zone']=='Mountain')] -= 314.5572244"
   ]
  },
  {
   "cell_type": "markdown",
   "id": "bf0a52bd-845b-4078-9e94-2007ff79acc1",
   "metadata": {},
   "source": [
    "### 2.3. Moving fuel subsidies from LPG to Electricity\n",
    "Currently the Nepal Oil Corporation says it buys LPG at Rs2,551.15 per cylinder and sells it for Rs1,800 incurring on a loss of Rs751.14 on every cylinder sold: https://kathmandupost.com/national/2022/06/07/oil-utility-mulls-reviving-dual-pricing-on-cooking-gas-insiders-sceptical \n",
    "\n",
    "We take the sell price and reduce the subsidy while we increase the subsidy for Electricity, until the same subsidy is reached in terms of cost/energy unit. "
   ]
  },
  {
   "cell_type": "code",
   "execution_count": null,
   "id": "fbb7bd3b-ba6a-4a58-a19d-784980e7d72b",
   "metadata": {},
   "outputs": [],
   "source": [
    "if scenario in ['Stated_policies']:\n",
    "    increment_percentage = 1 # in percentage of subsidy\n",
    "    increment = 549.875 * increment_percentage / (exchange_rate * 14.2) # USD per kg\n",
    "    nepal.techs['LPG'].fuel_cost += increment\n",
    "    \n",
    "    increment_per_MJ = increment / nepal.techs['LPG'].energy_content # in USD/MJ\n",
    "    decrease_per_kwh = increment_per_MJ * nepal.techs['Electricity'].energy_content # in USD/kWh\n",
    "\n",
    "    el_sub_factor = 0.5\n",
    "    nepal.techs['Electricity'].fuel_cost -= decrease_per_kwh * el_sub_factor\n",
    "    nepal.techs['Mini_Grids'].fuel_cost -= decrease_per_kwh * el_sub_factor"
   ]
  },
  {
   "cell_type": "markdown",
   "id": "c50fed31",
   "metadata": {},
   "source": [
    "## 3. Calculating benefits and costs of each technology and getting the max benefit technology for each cell"
   ]
  },
  {
   "cell_type": "code",
   "execution_count": null,
   "id": "8ab17f19",
   "metadata": {},
   "outputs": [],
   "source": [
    "names = ['Electricity', 'Mini_Grids', 'LPG', 'Biogas', 'Traditional_Biomass', 'Biomass_ICS_T2', 'Biomass_ICS_T3']\n",
    "nepal.run(technologies=names)"
   ]
  },
  {
   "cell_type": "markdown",
   "id": "5fd7bcc1",
   "metadata": {},
   "source": [
    "## 4. Printing the results"
   ]
  },
  {
   "cell_type": "code",
   "execution_count": null,
   "id": "0f7fc9a7-b574-4e54-aff6-767c566009bf",
   "metadata": {},
   "outputs": [],
   "source": [
    "nepal.summary()"
   ]
  },
  {
   "cell_type": "markdown",
   "id": "2f758c23",
   "metadata": {},
   "source": [
    "## 5. Saving the results"
   ]
  },
  {
   "cell_type": "code",
   "execution_count": null,
   "id": "d43f36fe-f145-43ca-a84b-0c40b25bec74",
   "metadata": {},
   "outputs": [],
   "source": [
    "nepal.to_pickle(\"results.pkl\")\n",
    "nepal.summary().to_csv(os.path.join(nepal.output_directory, 'summary.csv'), index=False)"
   ]
  },
  {
   "cell_type": "markdown",
   "id": "659808d5-716c-4987-b5d8-c59c47c7c41c",
   "metadata": {},
   "source": [
    "[Get back to setup](#Setup)"
   ]
  },
  {
   "cell_type": "markdown",
   "id": "a1873744",
   "metadata": {},
   "source": [
    "# Plotting and saving maps"
   ]
  },
  {
   "cell_type": "markdown",
   "id": "e650fabf-94ac-4f9a-ba8c-6eb555ae610e",
   "metadata": {},
   "source": [
    "## 1. Reading the results and creating the colormap"
   ]
  },
  {
   "cell_type": "code",
   "execution_count": null,
   "id": "99b73c8a",
   "metadata": {},
   "outputs": [],
   "source": [
    "nepal = OnStove.read_model(os.path.join(output_directory, 'results.pkl'))"
   ]
  },
  {
   "cell_type": "code",
   "execution_count": null,
   "id": "cc2d6f65-a428-489f-9f12-6e902a2f448d",
   "metadata": {},
   "outputs": [],
   "source": [
    "cmap = {\"Biomass ICS T2\": '#B6195E',\n",
    "        \"Biomass ICS T2 and Biogas\": \"#F6029E\", \n",
    "        \"Biomass ICS T3\": '#57365A', \n",
    "        \"Biomass ICS T3 and Biogas\": \"#bd57b6\", \n",
    "        \"Biogas\": '#73af48', \n",
    "        \"LPG\": '#40bdbc', \n",
    "        \"LPG and Biogas\": \"#156e5e\", \n",
    "        \"Electricity\": '#d14a36',\n",
    "        \"Electricity and Biomass ICS T2\": \"#FF0000\",\n",
    "        \"Electricity and Biomass ICS T3\": \"#e5a3a3\", \n",
    "        \"Electricity and Biogas\": \"#e17c05\",\n",
    "        \"Electricity and LPG\": \"#FFC107\", \n",
    "        \"Electricity and Mini Grids\": \"#ffd9df\",\n",
    "        \"Mini Grids\": \"#0096FF\", #ff7678\n",
    "        \"Mini Grids and Biogas\": \"#0047AB\",\n",
    "        \"Traditional Biomass\": 'black'} #ffd9df\n",
    "\n",
    "labels = {\"Biogas and Electricity\": \"Electricity and Biogas\",\n",
    "          \"Biogas and LPG\": \"LPG and Biogas\",\n",
    "          \"Biogas and Biomass ICS T3\": \"Biomass ICS T3 and Biogas\",\n",
    "          \"Biogas and Biomass ICS T2\": \"Biomass ICS T2 and Biogas\",\n",
    "          \"Biogas and Mini Grids\": \"Mini Grids and Biogas\"}\n",
    "\n",
    "scale_bar_prop = dict(size=100000, style='double', textprops=dict(size=11), location=(0.5, 0.02),\n",
    "                      linekw=dict(lw=1, color='black'), extent=0.01, loc='lower center')\n",
    "north_arrow_prop = dict(size=30, location=(0.92, 0.92), linewidth=0.5)"
   ]
  },
  {
   "cell_type": "code",
   "execution_count": null,
   "id": "8d367d01-af85-460c-bb72-3c90e4750f90",
   "metadata": {
    "tags": []
   },
   "outputs": [],
   "source": [
    "# Check how the colormap looks by calling the swatches helper function\n",
    "swatches(cmap)"
   ]
  },
  {
   "cell_type": "markdown",
   "id": "76f8c207-af03-4e66-9090-c960767169c1",
   "metadata": {},
   "source": [
    "## 2. Calculating subsidies"
   ]
  },
  {
   "cell_type": "code",
   "execution_count": null,
   "id": "9438b337-112c-4fe2-bf89-130e70c05c90",
   "metadata": {
    "tags": []
   },
   "outputs": [],
   "source": [
    "## LPG\n",
    "subsidy_lpg = 0\n",
    "if scenario != 'Stated_policies':\n",
    "    subsidy_hh_lpg = nepal.techs['LPG'].energy / nepal.techs['LPG'].energy_content / 14.2 * 549.875 / exchange_rate\n",
    "    subsidy_lpg = nepal.gdf.loc[nepal.gdf['max_benefit_tech'] == 'LPG', 'Households'].sum() * subsidy_hh_lpg / 1000000000\n",
    "\n",
    "## Biomass ICS\n",
    "subsidy_ics = (nepal.gdf.loc[nepal.gdf['max_benefit_tech']=='Biomass_ICS_T3', 'Households'] * nepal.techs['Biomass_ICS_T3'].inv_cost).sum() / 1000000000\n",
    "if scenario == 'Social_optimum':\n",
    "    subsidy_ics *= 0.5\n",
    "\n",
    "## Biogas\n",
    "eco_zones = VectorLayer(path=os.path.join('..', '1. Data', 'Ecological zones', 'Ecological zones.geojson'))\n",
    "eco_zones.reproject(3857)\n",
    "zones = nepal.gdf[['Households', 'geometry']].sjoin(eco_zones.data[['zone', 'geometry']], how='left')\n",
    "nepal.gdf['eco_zone'] = zones['zone']\n",
    "subsidy_biogas = nepal.gdf.loc[(nepal.gdf['max_benefit_tech'] == 'Biogas') & \n",
    "                               (nepal.gdf['eco_zone'] == 'Terai'), 'Households'].sum() * 193.5736766\n",
    "subsidy_biogas += nepal.gdf.loc[(nepal.gdf['max_benefit_tech'] == 'Biogas') & \n",
    "                                (nepal.gdf['eco_zone'] == 'Hills'), 'Households'].sum() * 262.1310203\n",
    "subsidy_biogas += nepal.gdf.loc[(nepal.gdf['max_benefit_tech'] == 'Biogas') & \n",
    "                                (nepal.gdf['eco_zone'] == 'Mountain'), 'Households'].sum() * 314.5572244\n",
    "subsidy_biogas /= 1000000000\n",
    "\n",
    "## Electricity\n",
    "subsidy_electricity = 0\n",
    "if scenario in ['Stated_policies']:\n",
    "    increment = 549.875 / (exchange_rate * 14.2) # USD per kg\n",
    "    \n",
    "    increment_per_MJ = increment / nepal.techs['LPG'].energy_content # in USD/MJ\n",
    "    subsidy_per_kwh = increment_per_MJ * nepal.techs['Electricity'].energy_content # in USD/kWh\n",
    "    \n",
    "    kwh_grid = nepal.techs['Electricity'].energy / nepal.techs['Electricity'].energy_content\n",
    "    kwh_minigrid = nepal.techs['Mini_Grids'].energy / nepal.techs['Mini_Grids'].energy_content\n",
    "    \n",
    "    subsidy_electricity = nepal.gdf.loc[nepal.gdf['max_benefit_tech'] == 'Electricity', 'Households'].sum() * kwh_minigrid * subsidy_per_kwh * el_sub_factor\n",
    "    subsidy_electricity += nepal.gdf.loc[nepal.gdf['max_benefit_tech'] == 'Mini_Grids', 'Households'].sum() * kwh_minigrid * subsidy_per_kwh * el_sub_factor\n",
    "    subsidy_electricity /= 1000000000\n",
    "    \n",
    "all_subsidies = subsidy_lpg + subsidy_ics + subsidy_biogas + subsidy_electricity\n",
    "\n",
    "# Calculating total system cost\n",
    "summary = nepal.summary(total=True, pretty=False, variable='max_benefit_tech', remove_none=True)\n",
    "total_costs = (summary.loc['total', 'investment_costs'] + summary.loc['total', 'fuel_costs'] + \n",
    "               summary.loc['total', 'om_costs'] - summary.loc['total', 'salvage_value']) / 1000\n",
    "\n",
    "if scenario != 'Social_optimum':\n",
    "    total_costs += all_subsidies"
   ]
  },
  {
   "cell_type": "markdown",
   "id": "31ac2e02-5258-4446-8e84-a23e5d0e0436",
   "metadata": {},
   "source": [
    "## 3. Plotting the results"
   ]
  },
  {
   "cell_type": "code",
   "execution_count": null,
   "id": "b9732edf-4970-4de0-aa0f-46f7859b2352",
   "metadata": {
    "tags": []
   },
   "outputs": [],
   "source": [
    "subsidies_df = pd.DataFrame({'LPG subsidies (BUS$)': [subsidy_lpg],\n",
    "                             'Biomass ICS T3 subsidies (BUS$)': [subsidy_ics],\n",
    "                             'Biogas subsidies (BUS$)': [subsidy_biogas],\n",
    "                             'Electricity subsidies (BUS$)': [subsidy_electricity]},\n",
    "                            index=['Subsidies prioritized'])\n",
    "subsidies_df.to_csv(os.path.join(nepal.output_directory, f'Subsidies_{scenario}.csv'))\n",
    "subsidies_df"
   ]
  },
  {
   "cell_type": "markdown",
   "id": "8897601b-9c17-48cf-9d23-7c0689b5899f",
   "metadata": {},
   "source": [
    "### 3.1. Plot optimal technology mix map"
   ]
  },
  {
   "cell_type": "code",
   "execution_count": null,
   "id": "0392f7d8-88ea-45fb-ab9b-25488c6a797d",
   "metadata": {},
   "outputs": [],
   "source": [
    "nepal.plot('max_benefit_tech', cmap=cmap, legend_position=(0.62, 0.95), \n",
    "           figsize=(13, 9), title=f'Maximum benefit cooking technology | Nepal',  \n",
    "           labels=labels, legend=True, legend_title='Maximum benefit\\ncooking technology', \n",
    "           rasterized=True, stats=True,\n",
    "           stats_kwargs={'extra_stats': {'Total system cost': f'{total_costs:.2f} BUS$',\n",
    "                                         'Subsidies': f'{all_subsidies:.2f} BUS$'}, \n",
    "                         'fontsize': 14, 'stats_position': (0.05, 0.28), 'pad': 2, 'sep': 0},\n",
    "           scale_bar=scale_bar_prop, north_arrow=north_arrow_prop,\n",
    "           dpi=300, \n",
    "          )"
   ]
  },
  {
   "cell_type": "code",
   "execution_count": null,
   "id": "ae6e1ad3",
   "metadata": {},
   "outputs": [],
   "source": [
    "nepal.to_image('max_benefit_tech', cmap=cmap,\n",
    "               figsize=(13, 9), dpi=300, \n",
    "               labels=labels, legend=False,\n",
    "               rasterized=True, stats=True, name='max_benefit_tech.pdf',\n",
    "               stats_kwargs={'extra_stats': {'Total system cost': f'{total_costs:.2f} BUS$',\n",
    "                                         'Subsidies': f'{all_subsidies:.2f} BUS$'}, \n",
    "                             'fontsize': 14, 'stats_position': (0, 0.28), 'pad': 2, 'sep': 0},\n",
    "               scale_bar=scale_bar_prop, north_arrow=north_arrow_prop)"
   ]
  },
  {
   "cell_type": "markdown",
   "id": "61ffd5c7-3db1-4f06-85e9-3946a8dca276",
   "metadata": {},
   "source": [
    "### 3.2. Plot technology split"
   ]
  },
  {
   "cell_type": "code",
   "execution_count": null,
   "id": "3e834fae-0306-4fa6-9ef5-9b2c39b3642b",
   "metadata": {},
   "outputs": [],
   "source": [
    "nepal.plot_split(cmap=cmap, labels=labels, height=2, width=3.5, orientation='h',\n",
    "                 labs_kwargs=dict(x=''), save_as='tech_split.pdf')"
   ]
  },
  {
   "cell_type": "markdown",
   "id": "e9b0a94e-1204-49b8-ab36-d486d7f5c9d2",
   "metadata": {},
   "source": [
    "### 3.3. Plot costs and benefits"
   ]
  },
  {
   "cell_type": "code",
   "execution_count": null,
   "id": "bb4211c5-505d-49ce-9b72-a9342b4604a5",
   "metadata": {},
   "outputs": [],
   "source": [
    "nepal.plot_costs_benefits(labels=labels, height=2, width=5.5, save_as='costs_benefits.pdf')"
   ]
  },
  {
   "cell_type": "markdown",
   "id": "fb4b43f7-8651-4ffc-889b-13f52a85c7e9",
   "metadata": {},
   "source": [
    "### 3.4. Plot optimal technology distribution over relative wealth"
   ]
  },
  {
   "cell_type": "code",
   "execution_count": null,
   "id": "3d0a5153-6d60-4c85-bc1e-7a09b22e48b5",
   "metadata": {},
   "outputs": [],
   "source": [
    "plt.clf()\n",
    "\n",
    "# Draw histogram\n",
    "max_val = nepal.gdf['relative_wealth'].max()\n",
    "min_val = nepal.gdf['relative_wealth'].min()\n",
    "binwidth = (max_val - min_val) * 0.05\n",
    "\n",
    "fig = nepal.plot_distribution(type='histogram', variable='relative_wealth', groupby='None', cmap=cmap, labels=labels, \n",
    "                              hh_divider=1000, y_title='Households (k)', font_args=dict(color='black', size=11),\n",
    "                              height=2.5, width=4, kwargs=dict(binwidth=binwidth, alpha=0.8, size=0.2), quantiles=True)\n",
    "\n",
    "# Add quantile lines\n",
    "q1, q3 = weighted_percentile(a=nepal.gdf['relative_wealth'].values, q=(25, 75), weights=nepal.gdf['Households'].values)\n",
    "\n",
    "# get axes to annotate\n",
    "ax = fig.axes[0] # get the matplotlib axis (may be more than one if faceted)\n",
    "\n",
    "# annotate percentages\n",
    "dff = nepal.gdf.groupby('max_benefit_tech')['Households'].sum()\n",
    "dff.sort_values(inplace=True)\n",
    "total = dff.sum()\n",
    "\n",
    "## Dictionaries to set the possition of the arrows and text in the histogram\n",
    "y_arrow_social_private = {'Electricity': 400, 'LPG': 180, 'Biogas': 50, 'Biomass_ICS_T3': 200, 'Mini_Grids': 0}\n",
    "y_arrow_lpg_high = {'Electricity': 100, 'LPG': 400, 'Biogas': 50, 'Biomass_ICS_T3': 200, 'Mini_Grids': 0}\n",
    "y_arrow_subsidies = {'Electricity': 400, 'LPG': 180, 'Biogas': 80, 'Biomass_ICS_T3': 50, 'Mini_Grids': 0}\n",
    "y_arrow_dict = {'Social_optimum': y_arrow_social_private, 'High_sub_lpg': y_arrow_lpg_high,\n",
    "                'Low_sub_lpg': y_arrow_social_private, 'Stated_policies': y_arrow_subsidies}\n",
    "y_text_subsidies = {'Electricity': 500, 'LPG': 300, 'Biogas': 400, 'Biomass_ICS_T3': 250, 'Mini_Grids': 100}\n",
    "y_text_general = {'Electricity': 500, 'LPG': 500, 'Biogas': 250, 'Biomass_ICS_T3': 400, 'Mini_Grids': 100}\n",
    "y_text_lpg_high = {'Electricity': 500, 'LPG': 550, 'Biogas': 250, 'Biomass_ICS_T3': 400, 'Mini_Grids': 100}\n",
    "y_text_dict = {'Social_optimum': y_text_general, 'High_sub_lpg': y_text_lpg_high,\n",
    "               'Low_sub_lpg': y_text_general, 'Stated_policies': y_text_subsidies}\n",
    "x_text_subsidies = {'Electricity': 1.5, 'LPG': 2, 'Biogas': -0.9, 'Biomass_ICS_T3': -1, 'Mini_Grids': -1.3}\n",
    "x_text_general = {'Electricity': 1.5, 'LPG': -1.1, 'Biogas': -1.1, 'Biomass_ICS_T3': -1, 'Mini_Grids': -1.3}\n",
    "x_text_lpg_high = {'Electricity': 1.8, 'LPG': -0.8, 'Biogas': -1.2, 'Biomass_ICS_T3': -1, 'Mini_Grids': -1.3}\n",
    "x_text_dict = {'Social_optimum': x_text_general, 'High_sub_lpg': x_text_lpg_high,\n",
    "               'Low_sub_lpg': x_text_general, 'Stated_policies': x_text_subsidies}\n",
    "## Draw arrows and text\n",
    "for tech in dff.index:\n",
    "    group = nepal.gdf.loc[nepal.gdf['max_benefit_tech']==tech]\n",
    "    hh = group['Households'].sum()\n",
    "    share = hh/total\n",
    "    if share > 0.01:\n",
    "        x = weighted_percentile(a=group['relative_wealth'].values, q=(50), weights=group['Households'].values)\n",
    "        y_arrow = y_arrow_dict[scenario][tech]\n",
    "        y_text = y_text_dict[scenario][tech]\n",
    "        x_text = x_text_dict[scenario][tech]\n",
    "\n",
    "        ax.annotate(xy=(x, y_arrow),\n",
    "                    xytext=(x_text, y_text), text=f'{share:.0%}',\n",
    "                    horizontalalignment='right', verticalalignment='center',\n",
    "                    arrowprops={'arrowstyle': '-', 'color': '#4D4D4D', 'lw': 0.5},\n",
    "                    color='#4D4D4D')\n",
    "        \n",
    "fig.set_size_inches(4, 2.5)\n",
    "fig.savefig(os.path.join(nepal.output_directory, 'tech_histogram.pdf'), bbox_inches='tight', transparent=True)\n",
    "fig"
   ]
  },
  {
   "cell_type": "markdown",
   "id": "39519146-9839-428c-b333-c46d75bcac63",
   "metadata": {},
   "source": [
    "## 4. Saving the results as raster files"
   ]
  },
  {
   "cell_type": "code",
   "execution_count": null,
   "id": "50344565-c148-4bde-815a-74040de378fa",
   "metadata": {
    "tags": []
   },
   "outputs": [],
   "source": [
    "nepal.gdf['total_annualized_costs'] = nepal.gdf['investment_costs'] + nepal.gdf['fuel_costs'] + nepal.gdf['om_costs'] - nepal.gdf['salvage_value']"
   ]
  },
  {
   "cell_type": "code",
   "execution_count": null,
   "id": "ac8027f9",
   "metadata": {},
   "outputs": [],
   "source": [
    "nepal.to_raster('max_benefit_tech', cmap=cmap, labels=labels, nodata=0, mask=True, mask_nodata=65535)\n",
    "nepal.to_raster('maximum_net_benefit', metric='per_household', nodata=0, mask=True, mask_nodata=-999999)\n",
    "nepal.to_raster('maximum_net_benefit', metric='total', nodata=0, mask=True, mask_nodata=-999999)\n",
    "nepal.to_raster('net_benefit_LPG', metric='per_household')\n",
    "nepal.to_raster('net_benefit_Biogas', metric='per_household')\n",
    "nepal.to_raster('net_benefit_Biomass_ICS_T3', metric='per_household')\n",
    "nepal.to_raster('net_benefit_Electricity', metric='per_household')\n",
    "nepal.to_raster('net_benefit_Mini_Grids', metric='per_household')\n",
    "nepal.to_raster('total_annualized_costs', metric='per_household', nodata=0, mask=True, mask_nodata=-999999)\n",
    "nepal.to_raster('total_annualized_costs', metric='total', nodata=0, mask=True, mask_nodata=-999999)\n",
    "nepal.to_raster('investment_costs', metric='per_household', nodata=0, mask=True, mask_nodata=-999999)\n",
    "nepal.to_raster('investment_costs', metric='total', nodata=0, mask=True, mask_nodata=-999999)\n",
    "nepal.to_raster('fuel_costs', metric='per_household', nodata=0, mask=True, mask_nodata=-999999)\n",
    "nepal.to_raster('fuel_costs', metric='total', nodata=0, mask=True, mask_nodata=-999999)\n",
    "nepal.to_raster('deaths_avoided', metric='per_100k', nodata=0, mask=True, mask_nodata=-999999)\n",
    "nepal.to_raster('time_saved', metric='per_household')\n",
    "nepal.to_raster('reduced_emissions', metric='per_household', nodata=0, mask=True, mask_nodata=-999999)\n",
    "\n",
    "nepal.to_raster('reduced_emissions', metric='total', nodata=0, mask=True, mask_nodata=-999999)\n",
    "raster = RasterLayer(path=f'../4. Results/{scenario}/Rasters/reduced_emissions_total.tif')\n",
    "raster.data[raster.data!=raster.meta['nodata']] /= 1000\n",
    "raster.name = 'reduced_emissions_total'\n",
    "raster.save(f'../4. Results/{scenario}/Rasters')\n",
    "\n",
    "nepal.to_raster('health_costs_avoided', metric='per_household', nodata=0, mask=True, mask_nodata=-999999)\n",
    "nepal.to_raster('health_costs_avoided', metric='total', nodata=0, mask=True, mask_nodata=-999999)\n",
    "nepal.to_raster('Households', metric='sum', nodata=0, mask=True, mask_nodata=-999999)\n",
    "nepal.to_raster('available_biogas', metric='mean', nodata=0, mask=True, mask_nodata=-999999)"
   ]
  },
  {
   "cell_type": "markdown",
   "id": "64f78cac-297e-441d-95cc-e23c71e3c71e",
   "metadata": {},
   "source": [
    "[Get back to setup](#Setup)"
   ]
  },
  {
   "cell_type": "code",
   "execution_count": null,
   "id": "5da39259-cd2b-465b-b366-12f2ad6dcb40",
   "metadata": {},
   "outputs": [],
   "source": []
  }
 ],
 "metadata": {
  "kernelspec": {
   "display_name": "Python 3 (ipykernel)",
   "language": "python",
   "name": "python3"
  },
  "language_info": {
   "codemirror_mode": {
    "name": "ipython",
    "version": 3
   },
   "file_extension": ".py",
   "mimetype": "text/x-python",
   "name": "python",
   "nbconvert_exporter": "python",
   "pygments_lexer": "ipython3",
   "version": "3.12.1"
  }
 },
 "nbformat": 4,
 "nbformat_minor": 5
}
