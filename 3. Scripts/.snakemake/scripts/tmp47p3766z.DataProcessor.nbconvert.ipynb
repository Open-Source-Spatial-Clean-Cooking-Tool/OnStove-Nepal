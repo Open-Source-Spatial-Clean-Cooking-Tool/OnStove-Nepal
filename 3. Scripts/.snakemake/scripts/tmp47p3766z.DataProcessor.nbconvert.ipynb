{
 "cells": [
  {
   "cell_type": "code",
   "execution_count": 1,
   "id": "f00d3f36",
   "metadata": {
    "execution": {
     "iopub.execute_input": "2024-01-26T09:26:27.583004Z",
     "iopub.status.busy": "2024-01-26T09:26:27.583004Z",
     "iopub.status.idle": "2024-01-26T09:26:27.639223Z",
     "shell.execute_reply": "2024-01-26T09:26:27.639223Z"
    },
    "tags": [
     "snakemake-job-properties"
    ]
   },
   "outputs": [],
   "source": [
    "\n",
    "######## snakemake preamble start (automatically inserted, do not edit) ########\n",
    "import sys; sys.path.extend(['C:\\\\Users\\\\camilorg\\\\AppData\\\\Local\\\\miniconda3\\\\envs\\\\onstovenepal\\\\Lib\\\\site-packages', 'C:\\\\Users\\\\camilorg\\\\OneDrive - KTH\\\\PhD stuff\\\\Papers\\\\Nepal Clean Cooking\\\\Nepal OnStove-MCA paper\\\\2. OnStove model\\\\3. Scripts', 'C:\\\\Users\\\\camilorg\\\\AppData\\\\Local\\\\miniconda3\\\\envs\\\\onstovenepal\\\\Scripts', 'C:\\\\Users\\\\camilorg\\\\AppData\\\\Local\\\\miniconda3\\\\envs\\\\onstovenepal\\\\DLLs', 'C:\\\\Users\\\\camilorg\\\\AppData\\\\Local\\\\miniconda3\\\\envs\\\\onstovenepal\\\\Lib', 'C:\\\\Users\\\\camilorg\\\\AppData\\\\Local\\\\miniconda3\\\\envs\\\\onstovenepal', 'C:\\\\Users\\\\camilorg\\\\AppData\\\\Local\\\\miniconda3\\\\envs\\\\onstovenepal\\\\Lib\\\\site-packages', 'C:\\\\Users\\\\camilorg\\\\AppData\\\\Local\\\\miniconda3\\\\envs\\\\onstovenepal\\\\Lib\\\\site-packages\\\\win32', 'C:\\\\Users\\\\camilorg\\\\AppData\\\\Local\\\\miniconda3\\\\envs\\\\onstovenepal\\\\Lib\\\\site-packages\\\\win32\\\\lib', 'C:\\\\Users\\\\camilorg\\\\AppData\\\\Local\\\\miniconda3\\\\envs\\\\onstovenepal\\\\Lib\\\\site-packages\\\\Pythonwin', 'C:\\\\Users\\\\camilorg\\\\OneDrive - KTH\\\\PhD stuff\\\\Papers\\\\Nepal Clean Cooking\\\\Nepal OnStove-MCA paper\\\\2. OnStove model\\\\3. Scripts', 'C:\\\\Users\\\\camilorg\\\\OneDrive - KTH\\\\PhD stuff\\\\Papers\\\\Nepal Clean Cooking\\\\Nepal OnStove-MCA paper\\\\2. OnStove model\\\\3. Scripts']); import pickle; snakemake = pickle.loads(b'\\x80\\x04\\x95\\x1e\\x11\\x00\\x00\\x00\\x00\\x00\\x00\\x8c\\x10snakemake.script\\x94\\x8c\\tSnakemake\\x94\\x93\\x94)\\x81\\x94}\\x94(\\x8c\\x05input\\x94\\x8c\\x0csnakemake.io\\x94\\x8c\\nInputFiles\\x94\\x93\\x94)\\x81\\x94(\\x8c>../1. Data/Other/Administrative boundaries/NPL_adm0_Nepal0.shp\\x94\\x8c?../1. Data/Demand/Population/HRSL/population_npl_2018-10-01.tif\\x94\\x8c8../1. Data/Demand/Wealth Index/Relative Wealth Index.tif\\x94\\x8cP../1. Data/Other/Administrative boundaries/NPL_adm3_Palika0/NPL_adm3_Palika0.shp\\x94\\x8c/../1. Data/Other/Forest cover/Forest_height.tif\\x94\\x8cV../1. Data/Other/Walking friction/202001_Global_Walking_Only_Friction_Surface_2019.tif\\x94\\x8c8../1. Data/Supply/Power network/MV-network/Nepal_DL0.shp\\x94\\x8ch../1. Data/Other/Night Time Lights/VNL_v21_npp_2020_global_vcmslcfg_c202205302300.average_masked.dat.tif\\x94\\x8c=../1. Data/Supply/Power network/MG-hydro/micro_hydropower.shp\\x94\\x8cV../1. Data/Supply/Power network/MG-hydro/Municipalities with MG hydro/mg_hydro.geojson\\x94\\x8c;../1. Data/Other/Traveltime/traveltime_to_urban_by_road.tif\\x94\\x8c6../1. Data/Other/Roads/Road_Networks_of_Nepal_OSM0.shp\\x94\\x8c=../1. Data/Supply/Global livestock/Buffaloes/5_Bf_2015_Da.tif\\x94\\x8c:../1. Data/Supply/Global livestock/Cattle/5_Ct_2015_Da.tif\\x94\\x8c<../1. Data/Supply/Global livestock/Chickens/5_Ch_2015_Da.tif\\x94\\x8c9../1. Data/Supply/Global livestock/Goats/5_Gt_2015_Da.tif\\x94\\x8c8../1. Data/Supply/Global livestock/Pigs/5_Pg_2015_Da.tif\\x94\\x8c9../1. Data/Supply/Global livestock/Sheep/5_Sh_2015_Da.tif\\x94\\x8c%../1. Data/Other/Temperature/TEMP.tif\\x94e}\\x94(\\x8c\\x06_names\\x94}\\x94(\\x8c\\nboundaries\\x94K\\x00N\\x86\\x94\\x8c\\npopulation\\x94K\\x01N\\x86\\x94\\x8c\\x06wealth\\x94K\\x02N\\x86\\x94\\x8c\\x0emunicipalities\\x94K\\x03N\\x86\\x94\\x8c\\x06forest\\x94K\\x04N\\x86\\x94\\x8c\\x10walking_friction\\x94K\\x05N\\x86\\x94\\x8c\\x08mv_lines\\x94K\\x06N\\x86\\x94\\x8c\\x03ntl\\x94K\\x07N\\x86\\x94\\x8c\\tmg_points\\x94K\\x08N\\x86\\x94\\x8c\\x0bmg_capacity\\x94K\\tN\\x86\\x94\\x8c\\x10traveltime_urban\\x94K\\nN\\x86\\x94\\x8c\\x05roads\\x94K\\x0bN\\x86\\x94\\x8c\\tbuffaloes\\x94K\\x0cN\\x86\\x94\\x8c\\x06cattle\\x94K\\rN\\x86\\x94\\x8c\\x07poultry\\x94K\\x0eN\\x86\\x94\\x8c\\x05goats\\x94K\\x0fN\\x86\\x94\\x8c\\x04pigs\\x94K\\x10N\\x86\\x94\\x8c\\x06sheeps\\x94K\\x11N\\x86\\x94\\x8c\\x0btemperature\\x94K\\x12N\\x86\\x94u\\x8c\\x12_allowed_overrides\\x94]\\x94(\\x8c\\x05index\\x94\\x8c\\x04sort\\x94ehH\\x8c\\tfunctools\\x94\\x8c\\x07partial\\x94\\x93\\x94h\\x06\\x8c\\x19Namedlist._used_attribute\\x94\\x93\\x94\\x85\\x94R\\x94(hN)}\\x94\\x8c\\x05_name\\x94hHsNt\\x94bhIhLhN\\x85\\x94R\\x94(hN)}\\x94hRhIsNt\\x94bh h\\nh\"h\\x0bh$h\\x0ch&h\\rh(h\\x0eh*h\\x0fh,h\\x10h.h\\x11h0h\\x12h2h\\x13h4h\\x14h6h\\x15h8h\\x16h:h\\x17h<h\\x18h>h\\x19h@h\\x1ahBh\\x1bhDh\\x1cub\\x8c\\x06output\\x94h\\x06\\x8c\\x0bOutputFiles\\x94\\x93\\x94)\\x81\\x94(\\x8c]../4. Results/Processed GIS Data/Administrative/Country_boundaries/Country_boundaries.geojson\\x94\\x8cG../4. Results/Processed GIS Data/Demographics/Population/Population.tif\\x94\\x8c?../4. Results/Processed GIS Data/Demographics/Wealth/Wealth.tif\\x94\\x8cW../4. Results/Processed GIS Data/Demographics/Urban_rural_divide/Urban_rural_divide.tif\\x94\\x8c:../4. Results/Processed GIS Data/Biomass/Forest/Forest.tif\\x94\\x8c>../4. Results/Processed GIS Data/Biomass/Friction/Friction.tif\\x94\\x8cF../4. Results/Processed GIS Data/Electricity/MV_lines/MV_lines.geojson\\x94\\x8cT../4. Results/Processed GIS Data/Electricity/Night_time_lights/Night_time_lights.tif\\x94\\x8cH../4. Results/Processed GIS Data/Electricity/MG_points/MG_points.geojson\\x94\\x8cH../4. Results/Processed GIS Data/Electricity/MG_access/MG_access.geojson\\x94\\x8cF../4. Results/Processed GIS Data/LPG/LPG_traveltime/LPG_traveltime.tif\\x94\\x8c8../4. Results/Processed GIS Data/LPG/Roads/Roads.geojson\\x94\\x8cI../4. Results/Processed GIS Data/Biogas/Livestock/buffaloes/buffaloes.tif\\x94\\x8cC../4. Results/Processed GIS Data/Biogas/Livestock/cattle/cattle.tif\\x94\\x8cE../4. Results/Processed GIS Data/Biogas/Livestock/poultry/poultry.tif\\x94\\x8cA../4. Results/Processed GIS Data/Biogas/Livestock/goats/goats.tif\\x94\\x8c?../4. Results/Processed GIS Data/Biogas/Livestock/pigs/pigs.tif\\x94\\x8cC../4. Results/Processed GIS Data/Biogas/Livestock/sheeps/sheeps.tif\\x94\\x8cC../4. Results/Processed GIS Data/Biogas/Temperature/Temperature.tif\\x94e}\\x94(h\\x1e}\\x94(h K\\x00N\\x86\\x94h\"K\\x01N\\x86\\x94h$K\\x02N\\x86\\x94\\x8c\\x0burbal_rural\\x94K\\x03N\\x86\\x94h(K\\x04N\\x86\\x94h*K\\x05N\\x86\\x94h,K\\x06N\\x86\\x94h.K\\x07N\\x86\\x94h0K\\x08N\\x86\\x94h2K\\tN\\x86\\x94h4K\\nN\\x86\\x94h6K\\x0bN\\x86\\x94h8K\\x0cN\\x86\\x94h:K\\rN\\x86\\x94h<K\\x0eN\\x86\\x94h>K\\x0fN\\x86\\x94h@K\\x10N\\x86\\x94hBK\\x11N\\x86\\x94hDK\\x12N\\x86\\x94uhF]\\x94(hHhIehHhLhN\\x85\\x94R\\x94(hN)}\\x94hRhHsNt\\x94bhIhLhN\\x85\\x94R\\x94(hN)}\\x94hRhIsNt\\x94bh h\\\\h\"h]h$h^hth_h(h`h*hah,hbh.hch0hdh2heh4hfh6hgh8hhh:hih<hjh>hkh@hlhBhmhDhnub\\x8c\\x06params\\x94h\\x06\\x8c\\x06Params\\x94\\x93\\x94)\\x81\\x94(\\x8c\\n../1. Data\\x94\\x8c ../4. Results\\\\Processed GIS Data\\x94e}\\x94(h\\x1e}\\x94(\\x8c\\x08gis_data\\x94K\\x00N\\x86\\x94\\x8c\\x07out_dir\\x94K\\x01N\\x86\\x94uhF]\\x94(hHhIehHhLhN\\x85\\x94R\\x94(hN)}\\x94hRhHsNt\\x94bhIhLhN\\x85\\x94R\\x94(hN)}\\x94hRhIsNt\\x94bh\\x96h\\x92h\\x98h\\x93ub\\x8c\\twildcards\\x94h\\x06\\x8c\\tWildcards\\x94\\x93\\x94)\\x81\\x94}\\x94(h\\x1e}\\x94hF]\\x94(hHhIehHhLhN\\x85\\x94R\\x94(hN)}\\x94hRhHsNt\\x94bhIhLhN\\x85\\x94R\\x94(hN)}\\x94hRhIsNt\\x94bub\\x8c\\x07threads\\x94K\\x01\\x8c\\tresources\\x94h\\x06\\x8c\\tResources\\x94\\x93\\x94)\\x81\\x94(K\\x01K\\x01\\x8c$C:\\\\Users\\\\camilorg\\\\AppData\\\\Local\\\\Temp\\x94e}\\x94(h\\x1e}\\x94(\\x8c\\x06_cores\\x94K\\x00N\\x86\\x94\\x8c\\x06_nodes\\x94K\\x01N\\x86\\x94\\x8c\\x06tmpdir\\x94K\\x02N\\x86\\x94uhF]\\x94(hHhIehHhLhN\\x85\\x94R\\x94(hN)}\\x94hRhHsNt\\x94bhIhLhN\\x85\\x94R\\x94(hN)}\\x94hRhIsNt\\x94bh\\xbaK\\x01h\\xbcK\\x01h\\xbeh\\xb7ub\\x8c\\x03log\\x94h\\x06\\x8c\\x03Log\\x94\\x93\\x94)\\x81\\x94}\\x94(h\\x1e}\\x94hF]\\x94(hHhIehHhLhN\\x85\\x94R\\x94(hN)}\\x94hRhHsNt\\x94bhIhLhN\\x85\\x94R\\x94(hN)}\\x94hRhIsNt\\x94bub\\x8c\\x06config\\x94}\\x94\\x8c\\x04rule\\x94\\x8c\\x0cprocess_data\\x94\\x8c\\x0fbench_iteration\\x94N\\x8c\\tscriptdir\\x94\\x8cyC:\\\\Users\\\\camilorg\\\\OneDrive - KTH\\\\PhD stuff\\\\Papers\\\\Nepal Clean Cooking\\\\Nepal OnStove-MCA paper\\\\2. OnStove model\\\\3. Scripts\\x94ub.'); from snakemake.logging import logger; logger.printshellcmds = False; import os; os.chdir(r'C:\\Users\\camilorg\\OneDrive - KTH\\PhD stuff\\Papers\\Nepal Clean Cooking\\Nepal OnStove-MCA paper\\2. OnStove model\\3. Scripts');\n",
    "######## snakemake preamble end #########\n"
   ]
  },
  {
   "cell_type": "code",
   "execution_count": 2,
   "id": "a23f2f02",
   "metadata": {
    "execution": {
     "iopub.execute_input": "2024-01-26T09:26:27.643227Z",
     "iopub.status.busy": "2024-01-26T09:26:27.643227Z",
     "iopub.status.idle": "2024-01-26T09:26:28.763287Z",
     "shell.execute_reply": "2024-01-26T09:26:28.763287Z"
    }
   },
   "outputs": [],
   "source": [
    "import os, sys\n",
    "import numpy as np\n",
    "import geopandas as gpd\n",
    "sys.path.append('../../OnStove')"
   ]
  },
  {
   "cell_type": "code",
   "execution_count": 3,
   "id": "c0e693b1-75be-4d91-9d7a-d8f84aa7680c",
   "metadata": {
    "execution": {
     "iopub.execute_input": "2024-01-26T09:26:28.765296Z",
     "iopub.status.busy": "2024-01-26T09:26:28.765296Z",
     "iopub.status.idle": "2024-01-26T09:26:28.767817Z",
     "shell.execute_reply": "2024-01-26T09:26:28.767817Z"
    }
   },
   "outputs": [],
   "source": [
    "# %load_ext autoreload"
   ]
  },
  {
   "cell_type": "code",
   "execution_count": 4,
   "id": "91e672ff",
   "metadata": {
    "execution": {
     "iopub.execute_input": "2024-01-26T09:26:28.769347Z",
     "iopub.status.busy": "2024-01-26T09:26:28.769347Z",
     "iopub.status.idle": "2024-01-26T09:26:33.262601Z",
     "shell.execute_reply": "2024-01-26T09:26:33.262601Z"
    }
   },
   "outputs": [],
   "source": [
    "# %autoreload 2\n",
    "from onstove import OnStove, DataProcessor, RasterLayer, VectorLayer"
   ]
  },
  {
   "cell_type": "code",
   "execution_count": 5,
   "id": "da7955c1-f72e-420e-8662-9429ee317c68",
   "metadata": {
    "execution": {
     "iopub.execute_input": "2024-01-26T09:26:33.265600Z",
     "iopub.status.busy": "2024-01-26T09:26:33.265600Z",
     "iopub.status.idle": "2024-01-26T09:26:33.268764Z",
     "shell.execute_reply": "2024-01-26T09:26:33.268764Z"
    }
   },
   "outputs": [],
   "source": [
    "snake = True  # Change this to False to run the notebook by yourself and not through snakemake"
   ]
  },
  {
   "cell_type": "markdown",
   "id": "ab677f71",
   "metadata": {},
   "source": [
    "# Data processing"
   ]
  },
  {
   "cell_type": "markdown",
   "id": "c8146919",
   "metadata": {},
   "source": [
    "## 1. Create a data processor\n",
    "First, we will create an instance of the `DataProcessor` object that will be used to add raw datasets, process them, and generate the required output datapackages for the `MCA` and `OnStove`. The `DataProcessor` object accepts three optional arguments `project_crs`, `cell_size`, and `output_directory`. The first defines the Coordinate Reference System (crs) to use in the project, this means that all datasets will be reprojected to match such crs. The second is used to define the desired cell size (i.e. width and height in meters) of the output datasets, which will be used to ensure that all output datasets match such cell size. The third is used as the output folder in which all results will be written, this parameter defaults to `output`."
   ]
  },
  {
   "cell_type": "code",
   "execution_count": 6,
   "id": "1fd76c2e",
   "metadata": {
    "execution": {
     "iopub.execute_input": "2024-01-26T09:26:33.271764Z",
     "iopub.status.busy": "2024-01-26T09:26:33.271764Z",
     "iopub.status.idle": "2024-01-26T09:26:33.287153Z",
     "shell.execute_reply": "2024-01-26T09:26:33.287153Z"
    }
   },
   "outputs": [],
   "source": [
    "data = DataProcessor(project_crs=3857, cell_size=(1000, 1000))\n",
    "\n",
    "if snake:\n",
    "    data_folder = snakemake.params.gis_data\n",
    "    output_directory = snakemake.params.out_dir\n",
    "else:\n",
    "    data_folder = '../1. Data'\n",
    "    output_directory = '../4. Results/Processed GIS Data'\n",
    "data.output_directory = output_directory"
   ]
  },
  {
   "cell_type": "markdown",
   "id": "b13afc4d",
   "metadata": {},
   "source": [
    "## 2. Add a mask layer (country boundaries) and a base layer\n",
    "A vector layer can be added as a mask, which will be later used to mask/clip all output datasets to the layer boundaries. For this, we use the `add_mask_layer` method providing a `category` in which to group the data, a `name` for the layer, and a `path` from where to read the data."
   ]
  },
  {
   "cell_type": "code",
   "execution_count": 7,
   "id": "74ab8d3c",
   "metadata": {
    "execution": {
     "iopub.execute_input": "2024-01-26T09:26:33.290128Z",
     "iopub.status.busy": "2024-01-26T09:26:33.290128Z",
     "iopub.status.idle": "2024-01-26T09:26:33.433695Z",
     "shell.execute_reply": "2024-01-26T09:26:33.433695Z"
    }
   },
   "outputs": [],
   "source": [
    "if snake:\n",
    "    adm_path = snakemake.input.boundaries\n",
    "else:\n",
    "    adm_path = os.path.join(data_folder, 'Other', 'Administrative boundaries', 'NPL_adm0_Nepal0.shp')\n",
    "data.add_mask_layer(category='Administrative', name='Country_boundaries', path=adm_path)"
   ]
  },
  {
   "cell_type": "markdown",
   "id": "9123735b",
   "metadata": {},
   "source": [
    "\n",
    "A raster base layer is needed to make every output match its grid and extent. For this, two additional options need to be passed to the `add_layer` method:\n",
    "* `base_layer`: if `True` the added layer will be considered as the base layer. \n",
    "* `resample`: this is the resampling method to be used when resampling this layer to the desired `cell_size` if a `cell_size` is provided."
   ]
  },
  {
   "cell_type": "markdown",
   "id": "b64735db",
   "metadata": {},
   "source": [
    "## 3. Add GIS layers\n",
    "Similarly, we can add data layers using the `add_layer` method. A `category`, layer `name`, and `path` also need to be provided. In addition, the following arguments can be passed:\n",
    "* `layer_type`: this argument is required with two possible options `raster` or `vector`, we should pass either one according to the dataset you are adding. \n",
    "* `resample`: this defines what resampling method to use when changing the resolution of the raster. The change of resolution happens when the layer gets aligned with the base layer."
   ]
  },
  {
   "cell_type": "markdown",
   "id": "a1d495e7",
   "metadata": {},
   "source": [
    "### Demographics\n",
    "Here we add the datasets of the demographics category, being population, the urban / rural divide, and the relative wealth index."
   ]
  },
  {
   "cell_type": "code",
   "execution_count": 8,
   "id": "bd00425a",
   "metadata": {
    "execution": {
     "iopub.execute_input": "2024-01-26T09:26:33.436699Z",
     "iopub.status.busy": "2024-01-26T09:26:33.436699Z",
     "iopub.status.idle": "2024-01-26T09:26:35.579570Z",
     "shell.execute_reply": "2024-01-26T09:26:35.579050Z"
    }
   },
   "outputs": [],
   "source": [
    "if snake:\n",
    "    pop_path = snakemake.input.population\n",
    "else:\n",
    "    pop_path =  os.path.join(data_folder, 'Demand', 'Population', 'HRSL', 'population_npl_2018-10-01.tif')\n",
    "data.add_layer(category='Demographics', name='Population', \n",
    "               path=pop_path, layer_type='raster', resample='sum')\n",
    "\n",
    "if snake:\n",
    "    wealth_path = snakemake.input.wealth\n",
    "else:\n",
    "    wealth_path = os.path.join(data_folder, 'Demand', 'Wealth Index', 'Relative Wealth Index.tif')\n",
    "data.add_layer(category='Demographics', name='Wealth', \n",
    "               path=wealth_path,\n",
    "               layer_type='raster', normalization='MinMax', inverse=False, resample='nearest')"
   ]
  },
  {
   "cell_type": "code",
   "execution_count": 9,
   "id": "90f76fda-be0e-493a-b63b-11fb370b9312",
   "metadata": {
    "execution": {
     "iopub.execute_input": "2024-01-26T09:26:35.581559Z",
     "iopub.status.busy": "2024-01-26T09:26:35.581559Z",
     "iopub.status.idle": "2024-01-26T09:26:36.471546Z",
     "shell.execute_reply": "2024-01-26T09:26:36.471022Z"
    }
   },
   "outputs": [],
   "source": [
    "if snake:\n",
    "    municipality_path = snakemake.input.municipalities\n",
    "else:\n",
    "    municipality_path =os.path.join(data_folder, 'Other', 'Administrative boundaries', 'NPL_adm3_Palika0', 'NPL_adm3_Palika0.shp')\n",
    "data.add_layer(category='Demographics', name='Urban_rural_divide', \n",
    "               path=municipality_path, layer_type='vector', distance_method='rasterize')\n",
    "\n",
    "classes = {'Gaunpalika': 11, 'Nagarpalika': 21, 'Mahanagarpalika': 21,\n",
    "           'Upamahanagarpalika': 11, 'Wildlife Reserve': 11, 'National Park': 11,\n",
    "           'Watershed and Wildlife Reserve': 11, 'Hunting Reserve': 11,\n",
    "           'Development Area': 11}\n",
    "data.layers['Demographics']['Urban_rural_divide'].data['value'] = data.layers['Demographics']['Urban_rural_divide'].data['Type_GN'].map(classes)"
   ]
  },
  {
   "cell_type": "markdown",
   "id": "7669c0fa",
   "metadata": {},
   "source": [
    "### Biomass\n",
    "Here we add the datasets related to the biomass category. These datasets are a raster layer showing the average forest height on every pixel, and a walking friction layer that will be used later to calculate the travel time to the nearest forest resource. We also perform an additional process to the forest height layer, to exclude everything below 5 meters in height and calculate a canopy cover over each pixel.\n",
    "\n",
    "**Note:** for the fricrtion layer, we also pass an additional argument `base_layer=True`, telling the `DataProcessor` to use the layer's spatial grid as the basis for the analysis. We chose this layer to be used as the base, because of its grid covering well the study area."
   ]
  },
  {
   "cell_type": "code",
   "execution_count": 10,
   "id": "07c375f7-b300-4d22-8544-16c3696f41ab",
   "metadata": {
    "execution": {
     "iopub.execute_input": "2024-01-26T09:26:36.474533Z",
     "iopub.status.busy": "2024-01-26T09:26:36.474533Z",
     "iopub.status.idle": "2024-01-26T09:26:38.788790Z",
     "shell.execute_reply": "2024-01-26T09:26:38.788790Z"
    }
   },
   "outputs": [
    {
     "name": "stderr",
     "output_type": "stream",
     "text": [
      "C:\\Users\\camilorg\\OneDrive - KTH\\PhD stuff\\Papers\\Nepal Clean Cooking\\Nepal OnStove-MCA paper\\2. OnStove model\\3. Scripts\\../../OnStove\\onstove\\layer.py:934: UserWarning: The Forest layer do not have a defined nodata value, thus 0 was assigned. You can change this defining the nodata value in the metadata of the variable as: variable.meta['nodata'] = value\n"
     ]
    }
   ],
   "source": [
    "if snake:\n",
    "    forest_path = snakemake.input.forest\n",
    "else:\n",
    "    forest_path = os.path.join(data_folder, 'Other', 'Forest cover', 'Forest_height.tif')\n",
    "data.add_layer(category='Biomass', name='Forest',\n",
    "               path=forest_path, layer_type='raster', resample='sum')\n",
    "data.layers['Biomass']['Forest'].data[data.layers['Biomass']['Forest'].data < 5] = 0\n",
    "data.layers['Biomass']['Forest'].data[data.layers['Biomass']['Forest'].data >= 5] = 1\n",
    "data.layers['Biomass']['Forest'].meta['nodata'] = 0\n",
    "transform = data.layers['Biomass']['Forest'].calculate_default_transform(data.project_crs)[0]\n",
    "factor = (data.cell_size[0] ** 2) / (transform[0] ** 2)"
   ]
  },
  {
   "cell_type": "code",
   "execution_count": 11,
   "id": "ad1544db-37fa-40b6-8973-67147e46a664",
   "metadata": {
    "execution": {
     "iopub.execute_input": "2024-01-26T09:26:38.791799Z",
     "iopub.status.busy": "2024-01-26T09:26:38.791799Z",
     "iopub.status.idle": "2024-01-26T09:30:02.620809Z",
     "shell.execute_reply": "2024-01-26T09:30:02.614800Z"
    }
   },
   "outputs": [],
   "source": [
    "if snake:\n",
    "    friction_path = snakemake.input.walking_friction\n",
    "else:\n",
    "    friction_path = os.path.join(data_folder, 'Other', 'Walking friction', '202001_Global_Walking_Only_Friction_Surface_2019.tif')\n",
    "data.add_layer(category='Biomass', name='Friction', path=friction_path, distance_method='travel_time',\n",
    "               layer_type='raster', resample='average', window=True, base_layer=True)"
   ]
  },
  {
   "cell_type": "markdown",
   "id": "a3a2809d",
   "metadata": {},
   "source": [
    "### Electricity\n",
    "Here we add all datasets related to the electricity category. These datasets are the medium voltage lines, the night time lights and minigrids locations and capacity."
   ]
  },
  {
   "cell_type": "markdown",
   "id": "0826d1ae-3a51-4777-a7e0-9a9a646fd545",
   "metadata": {},
   "source": [
    "#### Medium voltage lines"
   ]
  },
  {
   "cell_type": "code",
   "execution_count": 12,
   "id": "1d5c84b0-498d-42ec-ab6a-33bdd98ea0c2",
   "metadata": {
    "execution": {
     "iopub.execute_input": "2024-01-26T09:30:02.659807Z",
     "iopub.status.busy": "2024-01-26T09:30:02.657808Z",
     "iopub.status.idle": "2024-01-26T09:30:13.859539Z",
     "shell.execute_reply": "2024-01-26T09:30:13.858526Z"
    }
   },
   "outputs": [],
   "source": [
    "if snake:\n",
    "    mv_path = snakemake.input.mv_lines\n",
    "else:\n",
    "    mv_path = os.path.join(data_folder, 'Supply', 'Power network', 'MV-network', 'Nepal_DL0.shp')\n",
    "data.add_layer(category='Electricity', name='MV_lines', \n",
    "               path=mv_path, layer_type='vector',\n",
    "               query=\"Status == 'In Service' | Status == 'In Service (Private)'\")"
   ]
  },
  {
   "cell_type": "markdown",
   "id": "623d11db-13cb-4b74-9b92-8e6dd12a57c2",
   "metadata": {},
   "source": [
    "#### Night time lights"
   ]
  },
  {
   "cell_type": "code",
   "execution_count": 13,
   "id": "fd9d5d32-9281-4237-aa30-2ec53ee7a185",
   "metadata": {
    "execution": {
     "iopub.execute_input": "2024-01-26T09:30:13.864750Z",
     "iopub.status.busy": "2024-01-26T09:30:13.864750Z",
     "iopub.status.idle": "2024-01-26T09:30:31.343211Z",
     "shell.execute_reply": "2024-01-26T09:30:31.336202Z"
    }
   },
   "outputs": [
    {
     "name": "stderr",
     "output_type": "stream",
     "text": [
      "C:\\Users\\camilorg\\OneDrive - KTH\\PhD stuff\\Papers\\Nepal Clean Cooking\\Nepal OnStove-MCA paper\\2. OnStove model\\3. Scripts\\../../OnStove\\onstove\\layer.py:939: UserWarning: The Night_time_lights layer do not have a defined nodata value, thus np.nan was assigned. You can change this defining the nodata value in the metadata of the variable as: variable.meta['nodata'] = value\n"
     ]
    }
   ],
   "source": [
    "if snake:\n",
    "    ntl_path = snakemake.input.ntl\n",
    "else:\n",
    "    ntl_path = os.path.join(data_folder, 'Other', 'Night Time Lights', 'VNL_v21_npp_2020_global_vcmslcfg_c202205302300.average_masked.dat.tif')\n",
    "data.add_layer(category='Electricity', name='Night_time_lights', \n",
    "               path=ntl_path, layer_type='raster', resample='average')"
   ]
  },
  {
   "cell_type": "markdown",
   "id": "da2ba9c2-cb72-436c-893b-5fa4a1b4b0a7",
   "metadata": {},
   "source": [
    "#### Mini grids"
   ]
  },
  {
   "cell_type": "code",
   "execution_count": 14,
   "id": "74f0ffba-5d00-4e5a-9289-205fa2900e8f",
   "metadata": {
    "execution": {
     "iopub.execute_input": "2024-01-26T09:30:31.378210Z",
     "iopub.status.busy": "2024-01-26T09:30:31.376212Z",
     "iopub.status.idle": "2024-01-26T09:30:40.832538Z",
     "shell.execute_reply": "2024-01-26T09:30:40.832538Z"
    }
   },
   "outputs": [],
   "source": [
    "if snake:\n",
    "    mg_points_path = snakemake.input.mg_points\n",
    "else:\n",
    "    mg_points_path = os.path.join(data_folder, 'Supply', 'Power network', 'MG-hydro', 'micro_hydropower.shp')\n",
    "data.add_layer(category='Electricity', name='MG_points', \n",
    "               path=mg_points_path, layer_type='vector')\n",
    "\n",
    "if snake:\n",
    "    mg_access_path = snakemake.input.mg_capacity\n",
    "else:\n",
    "    mg_access_path = os.path.join(data_folder, 'Supply', 'Power network', 'MG-hydro', 'Municipalities with MG hydro', 'mg_hydro.geojson')\n",
    "data.add_layer(category='Electricity', name='MG_access', \n",
    "               path=mg_access_path, layer_type='vector')\n",
    "data.layers['Electricity']['MG_access'].data.rename({'Municipality': 'municipality', 'kW_constructed': 'capacity', 'HHs_constructed': 'households'}, inplace=True, axis=1)\n",
    "data.layers['Electricity']['MG_access'].data = data.layers['Electricity']['MG_access'].data[['municipality', 'capacity', 'households', 'geometry']]"
   ]
  },
  {
   "cell_type": "markdown",
   "id": "4da50c12",
   "metadata": {},
   "source": [
    "### LPG\n",
    "Here we add all datasets related to LPG category. They are the travel time to the nearest urban center using a motorized mean, and the roads network."
   ]
  },
  {
   "cell_type": "code",
   "execution_count": 15,
   "id": "0857e54e",
   "metadata": {
    "execution": {
     "iopub.execute_input": "2024-01-26T09:30:40.839547Z",
     "iopub.status.busy": "2024-01-26T09:30:40.838546Z",
     "iopub.status.idle": "2024-01-26T09:30:51.003953Z",
     "shell.execute_reply": "2024-01-26T09:30:51.002946Z"
    }
   },
   "outputs": [],
   "source": [
    "if snake:\n",
    "    lpg_path = snakemake.input.traveltime_urban\n",
    "else:\n",
    "    lpg_path = os.path.join(data_folder, 'Other', 'Traveltime', 'traveltime_to_urban_by_road.tif')\n",
    "data.add_layer(category='LPG', name='LPG_traveltime', \n",
    "               path=lpg_path, layer_type='raster', resample='average')\n",
    "\n",
    "if snake:\n",
    "    roads_path = snakemake.input.roads\n",
    "else:\n",
    "    roads_path = os.path.join(data_folder, 'Other', 'Roads', 'Road_Networks_of_Nepal_OSM0.shp')\n",
    "data.add_layer(category='LPG', name='Roads', \n",
    "               path=roads_path, layer_type='vector')"
   ]
  },
  {
   "cell_type": "markdown",
   "id": "874a0c85",
   "metadata": {},
   "source": [
    "### Biogas\n",
    "Here we add all datasets related to the biogas category. The datasets include livestock counts of buffaloes, cattle, chickens, goats, pigs and sheeps. We also add an extra layer to account for temperature, as at low temperatures biogas production is not efficient."
   ]
  },
  {
   "cell_type": "code",
   "execution_count": 16,
   "id": "cd60201e",
   "metadata": {
    "execution": {
     "iopub.execute_input": "2024-01-26T09:30:51.010954Z",
     "iopub.status.busy": "2024-01-26T09:30:51.009955Z",
     "iopub.status.idle": "2024-01-26T09:30:51.313941Z",
     "shell.execute_reply": "2024-01-26T09:30:51.313941Z"
    }
   },
   "outputs": [],
   "source": [
    "if snake:\n",
    "    buffaloes = snakemake.input.buffaloes\n",
    "    cattle = snakemake.input.cattle\n",
    "    poultry = snakemake.input.poultry\n",
    "    goats = snakemake.input.goats\n",
    "    pigs = snakemake.input.pigs\n",
    "    sheeps = snakemake.input.sheeps\n",
    "else:\n",
    "    buffaloes = os.path.join(data_folder, 'Supply', 'Global livestock', 'Buffaloes', '5_Bf_2015_Da.tif')\n",
    "    cattle = os.path.join(data_folder, 'Supply', 'Global livestock', 'Cattle', '5_Ct_2015_Da.tif')\n",
    "    poultry = os.path.join(data_folder, 'Supply', 'Global livestock', 'Chickens', '5_Ch_2015_Da.tif')\n",
    "    goats =os.path.join(data_folder, 'Supply', 'Global livestock', 'Goats', '5_Gt_2015_Da.tif')\n",
    "    pigs = os.path.join(data_folder, 'Supply', 'Global livestock', 'Pigs', '5_Pg_2015_Da.tif')\n",
    "    sheeps = os.path.join(data_folder, 'Supply', 'Global livestock', 'Sheep', '5_Sh_2015_Da.tif')\n",
    "\n",
    "for key, path in {'buffaloes': buffaloes,\n",
    "                  'cattle': cattle,\n",
    "                  'poultry': poultry,\n",
    "                  'goats': goats,\n",
    "                  'pigs': pigs,\n",
    "                  'sheeps': sheeps}.items():\n",
    "    data.add_layer(category='Biogas/Livestock', name=key, path=path,\n",
    "                   layer_type='raster', resample='nearest', window=True, rescale=True)"
   ]
  },
  {
   "cell_type": "code",
   "execution_count": 17,
   "id": "3e4040b9",
   "metadata": {
    "execution": {
     "iopub.execute_input": "2024-01-26T09:30:51.319959Z",
     "iopub.status.busy": "2024-01-26T09:30:51.318957Z",
     "iopub.status.idle": "2024-01-26T09:30:51.434978Z",
     "shell.execute_reply": "2024-01-26T09:30:51.434978Z"
    }
   },
   "outputs": [
    {
     "name": "stderr",
     "output_type": "stream",
     "text": [
      "C:\\Users\\camilorg\\OneDrive - KTH\\PhD stuff\\Papers\\Nepal Clean Cooking\\Nepal OnStove-MCA paper\\2. OnStove model\\3. Scripts\\../../OnStove\\onstove\\layer.py:939: UserWarning: The Temperature layer do not have a defined nodata value, thus np.nan was assigned. You can change this defining the nodata value in the metadata of the variable as: variable.meta['nodata'] = value\n"
     ]
    }
   ],
   "source": [
    "if snake:\n",
    "    temperature = snakemake.input.temperature\n",
    "else:\n",
    "    temperature = os.path.join(data_folder, 'Other', 'Temperature', 'TEMP.tif')\n",
    "data.add_layer(category='Biogas', name='Temperature', path=temperature,\n",
    "               layer_type='raster', resample='average', window=True)"
   ]
  },
  {
   "cell_type": "markdown",
   "id": "655ebb1d",
   "metadata": {},
   "source": [
    "## 4. Mask reproject and align all required layers\n",
    "After reading all datasets, we will align and reproject all rasters to the base layer, reproject the vector layers, calculate all needed distance rasters, finish calculating the canopy cover, and save all processed datasets to the `output_directory`."
   ]
  },
  {
   "cell_type": "code",
   "execution_count": 18,
   "id": "920db65b",
   "metadata": {
    "execution": {
     "iopub.execute_input": "2024-01-26T09:30:51.439986Z",
     "iopub.status.busy": "2024-01-26T09:30:51.438986Z",
     "iopub.status.idle": "2024-01-26T09:33:46.182232Z",
     "shell.execute_reply": "2024-01-26T09:33:46.181227Z"
    }
   },
   "outputs": [],
   "source": [
    "data.align_layers(datasets='all')\n",
    "\n",
    "data.reproject_layers(datasets={'Electricity': ['MG_points', 'MG_access', 'MV_lines'],\n",
    "                                'LPG': ['Roads'],\n",
    "                                'Demographics': ['Urban_rural_divide']})\n",
    "\n",
    "data.get_distance_rasters(datasets={'Electricity': ['MG_points', 'MV_lines'],\n",
    "                                    'LPG': ['Roads'],\n",
    "                                    'Demographics': ['Urban_rural_divide']})"
   ]
  },
  {
   "cell_type": "code",
   "execution_count": 19,
   "id": "8c74f77f",
   "metadata": {
    "execution": {
     "iopub.execute_input": "2024-01-26T09:33:46.187232Z",
     "iopub.status.busy": "2024-01-26T09:33:46.186234Z",
     "iopub.status.idle": "2024-01-26T09:33:46.200521Z",
     "shell.execute_reply": "2024-01-26T09:33:46.200521Z"
    }
   },
   "outputs": [],
   "source": [
    "## Finish calculating the canopy cover\n",
    "data.layers['Biomass']['Forest'].data = data.layers['Biomass']['Forest'].data / factor\n",
    "data.layers['Biomass']['Forest'].data *= 100\n",
    "data.layers['Biomass']['Forest'].data[data.layers['Biomass']['Forest'].data > 100] = 100"
   ]
  },
  {
   "cell_type": "code",
   "execution_count": 20,
   "id": "b579ca69-2bec-4334-9ea7-4936329118dd",
   "metadata": {
    "execution": {
     "iopub.execute_input": "2024-01-26T09:33:46.204527Z",
     "iopub.status.busy": "2024-01-26T09:33:46.204527Z",
     "iopub.status.idle": "2024-01-26T09:34:12.305685Z",
     "shell.execute_reply": "2024-01-26T09:34:12.304676Z"
    }
   },
   "outputs": [],
   "source": [
    "data.save_datasets(datasets='all')"
   ]
  }
 ],
 "metadata": {
  "kernelspec": {
   "display_name": "Python 3 (ipykernel)",
   "language": "python",
   "name": "python3"
  },
  "language_info": {
   "codemirror_mode": {
    "name": "ipython",
    "version": 3
   },
   "file_extension": ".py",
   "mimetype": "text/x-python",
   "name": "python",
   "nbconvert_exporter": "python",
   "pygments_lexer": "ipython3",
   "version": "3.12.1"
  }
 },
 "nbformat": 4,
 "nbformat_minor": 5
}
